{
 "cells": [
  {
   "attachments": {},
   "cell_type": "markdown",
   "id": "bce2bb89",
   "metadata": {},
   "source": [
    "# ADS 509 Assignment 5.1: Topic Modeling\n",
    "\n",
    "This notebook holds Assignment 5.1 for Module 5 in ADS 509, Applied Text Mining. Work through this notebook, writing code and answering questions where required. \n",
    "\n",
    "In this assignment you will work with a categorical corpus that accompanies `nltk`. You will build the three types of topic models described in Chapter 8 of _Blueprints for Text Analytics using Python_: NMF, LSA, and LDA. You will compare these models to the true categories. \n"
   ]
  },
  {
   "attachments": {},
   "cell_type": "markdown",
   "id": "d87e2c06",
   "metadata": {},
   "source": [
    "## General Assignment Instructions\n",
    "\n",
    "These instructions are included in every assignment, to remind you of the coding standards for the class. Feel free to delete this cell after reading it. \n",
    "\n",
    "One sign of mature code is conforming to a style guide. We recommend the [Google Python Style Guide](https://google.github.io/styleguide/pyguide.html). If you use a different style guide, please include a cell with a link. \n",
    "\n",
    "Your code should be relatively easy-to-read, sensibly commented, and clean. Writing code is a messy process, so please be sure to edit your final submission. Remove any cells that are not needed or parts of cells that contain unnecessary code. Remove inessential `import` statements and make sure that all such statements are moved into the designated cell. \n",
    "\n",
    "Make use of non-code cells for written commentary. These cells should be grammatical and clearly written. In some of these cells you will have questions to answer. The questions will be marked by a \"Q:\" and will have a corresponding \"A:\" spot for you. *Make sure to answer every question marked with a `Q:` for full credit.* \n"
   ]
  },
  {
   "cell_type": "code",
   "execution_count": 1,
   "id": "a85bce08",
   "metadata": {},
   "outputs": [],
   "source": [
    "# These libraries may be useful to you\n",
    "\n",
    "#!pip install pyLDAvis==3.4.1 --user  #You need to restart the Kernel after installation.\n",
    "# You also need a Python version => 3.9.0\n",
    "\n",
    "from nltk.corpus import brown\n",
    "\n",
    "import numpy as np\n",
    "import pandas as pd\n",
    "from tqdm.auto import tqdm\n",
    "\n",
    "import pyLDAvis\n",
    "import pyLDAvis.lda_model\n",
    "import pyLDAvis.gensim_models\n",
    "\n",
    "import spacy\n",
    "from sklearn.feature_extraction.text import TfidfVectorizer, CountVectorizer\n",
    "from sklearn.decomposition import NMF, TruncatedSVD, LatentDirichletAllocation\n",
    "\n",
    "from spacy.lang.en.stop_words import STOP_WORDS as stopwords\n",
    "import en_core_web_sm\n",
    "\n",
    "from collections import Counter, defaultdict\n",
    "\n",
    "nlp = en_core_web_sm.load()"
   ]
  },
  {
   "cell_type": "code",
   "execution_count": 2,
   "id": "494de237",
   "metadata": {},
   "outputs": [],
   "source": [
    "# This function comes from the BTAP repo.\n",
    "\n",
    "def display_topics(model, features, no_top_words=5):\n",
    "    for topic, words in enumerate(model.components_):\n",
    "        total = words.sum()\n",
    "        largest = words.argsort()[::-1] # invert sort order\n",
    "        print(\"\\nTopic %02d\" % topic)\n",
    "        for i in range(0, no_top_words):\n",
    "            print(\"  %s (%2.2f)\" % (features[largest[i]], abs(words[largest[i]]*100.0/total)))"
   ]
  },
  {
   "attachments": {},
   "cell_type": "markdown",
   "id": "a30a901c",
   "metadata": {},
   "source": [
    "## Getting to Know the Brown Corpus\n",
    "\n",
    "Let's spend a bit of time getting to know what's in the Brown corpus, our NLTK example of an \"overlapping\" corpus."
   ]
  },
  {
   "cell_type": "code",
   "execution_count": 39,
   "id": "457c59ed",
   "metadata": {},
   "outputs": [
    {
     "name": "stdout",
     "output_type": "stream",
     "text": [
      "For adventure we have 29 articles.\n",
      "For belles_lettres we have 75 articles.\n",
      "For editorial we have 27 articles.\n",
      "For fiction we have 29 articles.\n",
      "For government we have 30 articles.\n",
      "For hobbies we have 36 articles.\n",
      "For humor we have 9 articles.\n",
      "For learned we have 80 articles.\n",
      "For lore we have 48 articles.\n",
      "For mystery we have 24 articles.\n",
      "For news we have 44 articles.\n",
      "For religion we have 17 articles.\n",
      "For reviews we have 17 articles.\n",
      "For romance we have 29 articles.\n",
      "For science_fiction we have 6 articles.\n"
     ]
    }
   ],
   "source": [
    "# categories of articles in Brown corpus\n",
    "for category in brown.categories() :\n",
    "    print(f\"For {category} we have {len(brown.fileids(categories=category))} articles.\")"
   ]
  },
  {
   "attachments": {},
   "cell_type": "markdown",
   "id": "23fb133c",
   "metadata": {},
   "source": [
    "Let's create a dataframe of the articles in of hobbies, editorial, government, news, and romance."
   ]
  },
  {
   "cell_type": "code",
   "execution_count": 40,
   "id": "18f50b9d",
   "metadata": {},
   "outputs": [
    {
     "data": {
      "text/plain": [
       "(166, 3)"
      ]
     },
     "execution_count": 40,
     "metadata": {},
     "output_type": "execute_result"
    }
   ],
   "source": [
    "categories = ['editorial','government','news','romance','hobbies'] \n",
    "\n",
    "category_list = []\n",
    "file_ids = []\n",
    "texts = []\n",
    "\n",
    "for category in categories : \n",
    "    for file_id in brown.fileids(categories=category) :\n",
    "        \n",
    "        # build some lists for a dataframe\n",
    "        category_list.append(category)\n",
    "        file_ids.append(file_id)\n",
    "        \n",
    "        text = brown.words(fileids=file_id)\n",
    "        texts.append(\" \".join(text))\n",
    "\n",
    "        \n",
    "        \n",
    "df = pd.DataFrame()\n",
    "df['category'] = category_list\n",
    "df['id'] = file_ids\n",
    "df['text'] = texts \n",
    "\n",
    "df.shape"
   ]
  },
  {
   "cell_type": "code",
   "execution_count": 41,
   "id": "586f47de",
   "metadata": {},
   "outputs": [],
   "source": [
    "# Let's add some helpful columns on the df\n",
    "df['char_len'] = df['text'].apply(len)\n",
    "df['word_len'] = df['text'].apply(lambda x: len(x.split()))\n"
   ]
  },
  {
   "cell_type": "code",
   "execution_count": 42,
   "id": "2128fd2d",
   "metadata": {},
   "outputs": [
    {
     "name": "stderr",
     "output_type": "stream",
     "text": [
      "/opt/miniconda3/envs/502/lib/python3.10/site-packages/IPython/core/pylabtools.py:77: DeprecationWarning: backends is deprecated since IPython 8.24, backends are managed in matplotlib and can be externally registered.\n",
      "  warnings.warn(\n"
     ]
    },
    {
     "data": {
      "text/plain": [
       "<Axes: xlabel='category'>"
      ]
     },
     "execution_count": 42,
     "metadata": {},
     "output_type": "execute_result"
    },
    {
     "data": {
      "image/png": "[encoded data removed]",
      "text/plain": [
       "<Figure size 1000x600 with 1 Axes>"
      ]
     },
     "metadata": {},
     "output_type": "display_data"
    }
   ],
   "source": [
    "%matplotlib inline\n",
    "df.groupby('category').agg({'word_len': 'mean'}).plot.bar(figsize=(10,6))"
   ]
  },
  {
   "attachments": {},
   "cell_type": "markdown",
   "id": "554ffeb5",
   "metadata": {},
   "source": [
    "Now do our TF-IDF and Count vectorizations."
   ]
  },
  {
   "cell_type": "code",
   "execution_count": 43,
   "id": "21a7d247",
   "metadata": {},
   "outputs": [
    {
     "name": "stderr",
     "output_type": "stream",
     "text": [
      "/opt/miniconda3/envs/502/lib/python3.10/site-packages/sklearn/feature_extraction/text.py:408: UserWarning: Your stop_words may be inconsistent with your preprocessing. Tokenizing the stop words generated tokens ['ll', 've'] not in stop_words.\n",
      "  warnings.warn(\n"
     ]
    },
    {
     "data": {
      "text/plain": [
       "(166, 4941)"
      ]
     },
     "execution_count": 43,
     "metadata": {},
     "output_type": "execute_result"
    }
   ],
   "source": [
    "count_text_vectorizer = CountVectorizer(stop_words=list(stopwords), min_df=5, max_df=0.7)\n",
    "count_text_vectors = count_text_vectorizer.fit_transform(df[\"text\"])\n",
    "count_text_vectors.shape"
   ]
  },
  {
   "cell_type": "code",
   "execution_count": 44,
   "id": "875deba9",
   "metadata": {},
   "outputs": [
    {
     "data": {
      "text/plain": [
       "(166, 4941)"
      ]
     },
     "execution_count": 44,
     "metadata": {},
     "output_type": "execute_result"
    }
   ],
   "source": [
    "tfidf_text_vectorizer = TfidfVectorizer(stop_words=list(stopwords), min_df=5, max_df=0.7)\n",
    "tfidf_text_vectors = tfidf_text_vectorizer.fit_transform(df['text'])\n",
    "tfidf_text_vectors.shape"
   ]
  },
  {
   "attachments": {},
   "cell_type": "markdown",
   "id": "a1062b21",
   "metadata": {},
   "source": [
    "Q: What do the two data frames `count_text_vectors` and `tfidf_text_vectors` hold? \n",
    "\n",
    "A: The `count_text_vectors` creates a Bag-of-Words vectorizer that takes the text documents and converts them into a matrix of token counts.  The `tfidf_text_vectors`is a tfidf vectorizer that holds the term frequency of each word and downweights commpn words highlighting the unique and more informative terms in a document. Both the `count_text_vectors` and `tfidf_text_vectors` removes the stopwords from the spaCy list, ignores words that appear less than five times, and ignores words that appear 70% or more times."
   ]
  },
  {
   "attachments": {},
   "cell_type": "markdown",
   "id": "f77c3f94",
   "metadata": {},
   "source": [
    "## Fitting a Non-Negative Matrix Factorization Model\n",
    "\n",
    "In this section the code to fit a five-topic NMF model has already been written. This code comes directly from the [BTAP repo](https://github.com/blueprints-for-text-analytics-python/blueprints-text), which will help you tremendously in the coming sections. "
   ]
  },
  {
   "cell_type": "code",
   "execution_count": 45,
   "id": "d28745a3",
   "metadata": {},
   "outputs": [],
   "source": [
    "nmf_text_model = NMF(n_components=5, random_state=314)\n",
    "W_text_matrix = nmf_text_model.fit_transform(tfidf_text_vectors)\n",
    "H_text_matrix = nmf_text_model.components_"
   ]
  },
  {
   "cell_type": "code",
   "execution_count": 46,
   "id": "a67185e7",
   "metadata": {},
   "outputs": [
    {
     "name": "stdout",
     "output_type": "stream",
     "text": [
      "\n",
      "Topic 00\n",
      "  mr (0.51)\n",
      "  president (0.45)\n",
      "  kennedy (0.43)\n",
      "  united (0.42)\n",
      "  khrushchev (0.40)\n",
      "\n",
      "Topic 01\n",
      "  said (0.88)\n",
      "  didn (0.46)\n",
      "  ll (0.45)\n",
      "  thought (0.42)\n",
      "  man (0.37)\n",
      "\n",
      "Topic 02\n",
      "  state (0.39)\n",
      "  development (0.36)\n",
      "  tax (0.33)\n",
      "  sales (0.30)\n",
      "  program (0.25)\n",
      "\n",
      "Topic 03\n",
      "  mrs (2.61)\n",
      "  mr (0.78)\n",
      "  said (0.63)\n",
      "  miss (0.52)\n",
      "  car (0.51)\n",
      "\n",
      "Topic 04\n",
      "  game (1.02)\n",
      "  league (0.74)\n",
      "  ball (0.72)\n",
      "  baseball (0.71)\n",
      "  team (0.66)\n"
     ]
    }
   ],
   "source": [
    "display_topics(nmf_text_model, tfidf_text_vectorizer.get_feature_names_out())"
   ]
  },
  {
   "attachments": {},
   "cell_type": "markdown",
   "id": "fee51e9b",
   "metadata": {},
   "source": [
    "Now some work for you to do. Compare the NMF categorization to the original categories from the Brown Corpus.\n",
    "\n",
    "We are interested in the extent to which our NMF categorization agrees or disagrees with the original categories in the corpus. For each topic in your NMF model, tally the Brown categories and interpret the results. \n"
   ]
  },
  {
   "cell_type": "code",
   "execution_count": 47,
   "id": "1f08e253",
   "metadata": {},
   "outputs": [
    {
     "name": "stdout",
     "output_type": "stream",
     "text": [
      "nmf_topic  category  \n",
      "0          editorial     20\n",
      "           news           8\n",
      "           government     4\n",
      "1          romance       29\n",
      "           hobbies        8\n",
      "           editorial      4\n",
      "2          government    26\n",
      "           hobbies       26\n",
      "           news          11\n",
      "           editorial      2\n",
      "3          news          17\n",
      "           hobbies        1\n",
      "4          news           8\n",
      "           editorial      1\n",
      "           hobbies        1\n",
      "Name: count, dtype: int64\n"
     ]
    }
   ],
   "source": [
    "# Your code here\n",
    "\n",
    "# Assign each document to the topic with the highest weight\n",
    "df['nmf_topic'] = W_text_matrix.argmax(axis=1)\n",
    "\n",
    "# Tally the Brown categories for each topic\n",
    "topic_category_tally = df.groupby('nmf_topic')['category'].value_counts()\n",
    "\n",
    "# Display the results\n",
    "print(topic_category_tally)"
   ]
  },
  {
   "cell_type": "code",
   "execution_count": null,
   "id": "6c98db3a",
   "metadata": {},
   "outputs": [],
   "source": []
  },
  {
   "attachments": {},
   "cell_type": "markdown",
   "id": "f8d4e2bc",
   "metadata": {},
   "source": [
    "Q: How does your five-topic NMF model compare to the original Brown categories? \n",
    "\n",
    "A: The five-topic NMF model reveals broader semantic themes that align with multiple Brown categories, which are more genre-based. For example, Topic 0 includes words like “mr,” “president,” and “kennedy,” aligning with the government, editorial, and news categories. Similarly, Topic 4 features terms like “game,” “league,” and “team,” which connect to news, editorial, and hobbies categories.  "
   ]
  },
  {
   "attachments": {},
   "cell_type": "markdown",
   "id": "82e37cb5",
   "metadata": {},
   "source": [
    "## Fitting an LSA Model\n",
    "\n",
    "In this section, follow the example from the repository and fit an LSA model (called a \"TruncatedSVD\" in `sklearn`). Again fit a five-topic model and compare it to the actual categories in the Brown corpus. Use the TF-IDF vectors for your fit, as above. \n",
    "\n",
    "To be explicit, we are once again interested in the extent to which this LSA factorization agrees or disagrees with the original categories in the corpus. For each topic in your model, tally the Brown categories and interpret the results. \n"
   ]
  },
  {
   "cell_type": "code",
   "execution_count": 48,
   "id": "00b53d3d",
   "metadata": {},
   "outputs": [],
   "source": [
    "# Your code here\n",
    "svd_para_model = TruncatedSVD(n_components = 5, random_state=314)\n",
    "W_svd_para_matrix = svd_para_model.fit_transform(tfidf_text_vectors)\n",
    "H_svd_para_matrix = svd_para_model.components_"
   ]
  },
  {
   "cell_type": "code",
   "execution_count": 49,
   "id": "1059bd7d",
   "metadata": {},
   "outputs": [
    {
     "name": "stdout",
     "output_type": "stream",
     "text": [
      "lsa_topic  category  \n",
      "0          hobbies       36\n",
      "           news          34\n",
      "           government    30\n",
      "           editorial     27\n",
      "           romance       21\n",
      "1          romance        8\n",
      "3          news           3\n",
      "4          news           7\n",
      "Name: count, dtype: int64\n"
     ]
    }
   ],
   "source": [
    "# compare model to the actual brown corpus \n",
    "# Assign each document to the topic with the highest weight\n",
    "df['lsa_topic'] = W_svd_para_matrix.argmax(axis=1)\n",
    "\n",
    "# Tally the Brown categories for each topic\n",
    "topic_category_tally_2 = df.groupby('lsa_topic')['category'].value_counts()\n",
    "\n",
    "# Display the results\n",
    "print(topic_category_tally_2)"
   ]
  },
  {
   "attachments": {},
   "cell_type": "markdown",
   "id": "4d94d56f",
   "metadata": {},
   "source": [
    "Q: How does your five-topic LSA model compare to the original Brown categories? \n",
    "\n",
    "A: In the LSA model, Topic 0 stands out by aligning with all five Brown categories (hobbies, news, editorial, romance, and government), indicating it captures a broad, general theme present across all the genres. In contrast, the remaining topics show clearer alignment with a single Brown category, making them more straightforward to interpret. "
   ]
  },
  {
   "cell_type": "code",
   "execution_count": 50,
   "id": "377a886e",
   "metadata": {},
   "outputs": [
    {
     "name": "stdout",
     "output_type": "stream",
     "text": [
      "\n",
      "Topic 00\n",
      "  said (0.44)\n",
      "  mr (0.25)\n",
      "  mrs (0.22)\n",
      "  state (0.20)\n",
      "  man (0.17)\n",
      "\n",
      "Topic 01\n",
      "  said (3.89)\n",
      "  ll (2.73)\n",
      "  didn (2.63)\n",
      "  thought (2.20)\n",
      "  got (1.97)\n",
      "\n",
      "Topic 02\n",
      "  mrs (3.12)\n",
      "  mr (1.70)\n",
      "  said (1.06)\n",
      "  kennedy (0.82)\n",
      "  khrushchev (0.77)\n",
      "\n",
      "Topic 03\n",
      "  mrs (29.45)\n",
      "  club (6.53)\n",
      "  game (6.12)\n",
      "  jr (5.60)\n",
      "  university (5.20)\n",
      "\n",
      "Topic 04\n",
      "  game (4.54)\n",
      "  league (3.27)\n",
      "  baseball (3.22)\n",
      "  ball (3.10)\n",
      "  team (2.94)\n"
     ]
    }
   ],
   "source": [
    "# call display_topics on your model\n",
    "display_topics(svd_para_model, tfidf_text_vectorizer.get_feature_names_out())"
   ]
  },
  {
   "attachments": {},
   "cell_type": "markdown",
   "id": "ea8b280a",
   "metadata": {},
   "source": [
    "Q: What is your interpretation of the display topics output? \n",
    "\n",
    "A: Based on the display topics output, Topics 0 and 1 appear to be conversational with words like \"said,\" and \"thought\" appearing. Topic 2 includes words like “mr,” “mrs,” and “kennedy,” which may suggest being tied to government and news categories. Topic 3 includes words like \"club,\" and \"university\" indicating it may relate to hobbies and news for community events. Lastly, Topic 4 is more distinct, with terms like “game,” “league,” and “team,” clearly pointing to sports related content, commonly found in news and editorial categories."
   ]
  },
  {
   "attachments": {},
   "cell_type": "markdown",
   "id": "b4ab4d29",
   "metadata": {},
   "source": [
    "## Fitting an LDA Model\n",
    "\n",
    "Finally, fit a five-topic LDA model using the count vectors (`count_text_vectors` from above). Display the results using `pyLDAvis.display` and describe what you learn from that visualization. "
   ]
  },
  {
   "cell_type": "code",
   "execution_count": 51,
   "id": "802cb8ff",
   "metadata": {},
   "outputs": [],
   "source": [
    "# Fit your LDA model here\n",
    "lda_text_model = LatentDirichletAllocation(n_components = 5, random_state=314)\n",
    "W_lda_para_matrix = lda_text_model.fit_transform(count_text_vectors)\n",
    "H_lda_para_matrix = lda_text_model.components_"
   ]
  },
  {
   "cell_type": "code",
   "execution_count": 52,
   "id": "ab18adf5",
   "metadata": {},
   "outputs": [
    {
     "name": "stdout",
     "output_type": "stream",
     "text": [
      "\n",
      "Topic 00\n",
      "  said (1.05)\n",
      "  mrs (0.82)\n",
      "  little (0.56)\n",
      "  good (0.51)\n",
      "  way (0.50)\n",
      "\n",
      "Topic 01\n",
      "  state (0.67)\n",
      "  development (0.63)\n",
      "  000 (0.57)\n",
      "  program (0.48)\n",
      "  business (0.44)\n",
      "\n",
      "Topic 02\n",
      "  said (1.18)\n",
      "  mr (0.72)\n",
      "  president (0.51)\n",
      "  city (0.43)\n",
      "  state (0.37)\n",
      "\n",
      "Topic 03\n",
      "  feed (0.55)\n",
      "  college (0.54)\n",
      "  general (0.44)\n",
      "  university (0.43)\n",
      "  work (0.37)\n",
      "\n",
      "Topic 04\n",
      "  states (1.14)\n",
      "  state (1.02)\n",
      "  united (0.84)\n",
      "  shall (0.66)\n",
      "  government (0.61)\n"
     ]
    }
   ],
   "source": [
    "# Call `display_topics` on your fitted model here\n",
    "display_topics(lda_text_model, count_text_vectorizer.get_feature_names_out())"
   ]
  },
  {
   "cell_type": "code",
   "execution_count": 55,
   "id": "f8796f43",
   "metadata": {},
   "outputs": [
    {
     "name": "stdout",
     "output_type": "stream",
     "text": [
      "lda_topic  category  \n",
      "0          romance       28\n",
      "           hobbies       11\n",
      "           news           4\n",
      "           editorial      3\n",
      "           government     1\n",
      "1          government    12\n",
      "           hobbies        9\n",
      "           news           3\n",
      "           editorial      1\n",
      "2          news          32\n",
      "           editorial     21\n",
      "           government     3\n",
      "           hobbies        2\n",
      "           romance        1\n",
      "3          hobbies        8\n",
      "           government     4\n",
      "           news           3\n",
      "           editorial      2\n",
      "4          government    10\n",
      "           hobbies        6\n",
      "           news           2\n",
      "Name: count, dtype: int64\n"
     ]
    }
   ],
   "source": [
    "# Assign each document to the topic with the highest weight\n",
    "df['lda_topic'] = W_lda_para_matrix.argmax(axis=1)\n",
    "\n",
    "# Tally the Brown categories for each topic\n",
    "topic_category_tally_3 = df.groupby('lda_topic')['category'].value_counts()\n",
    "\n",
    "# Display the results\n",
    "print(topic_category_tally_3)"
   ]
  },
  {
   "attachments": {},
   "cell_type": "markdown",
   "id": "f2c67876",
   "metadata": {},
   "source": [
    "Q: What inference do you draw from the displayed topics for your LDA model? \n",
    "\n",
    "A: The LDA model display topics output, suggests that Topic 0 relates to editorial and romance categories. Topic 1 and Topic 2 likely relate to both govenrment and news categories. Topic 3 likely relates to news and hobbies. Lastly, Topic 4 likely relates to government. \n",
    "\n",
    "Q: Repeat the tallying of Brown categories within your topics. How does your five-topic LDA model compare to the original Brown categories? \n",
    "\n",
    "A: Based on the Brown category tallies, most of the LDA topics align well with the expected categories based on their top words. The themes are generally clear and interpretable, such as government, hobbies, and news. Interestingly, Topic 2,which includes words like “said,” “state,” and “president,” has a small connection to the romance category. Indicating that some political discourse can appear narrative/romance like. "
   ]
  },
  {
   "cell_type": "code",
   "execution_count": 53,
   "id": "6aae75ca",
   "metadata": {},
   "outputs": [],
   "source": [
    "lda_display = pyLDAvis.lda_model.prepare(lda_text_model, count_text_vectors, count_text_vectorizer, sort_topics=False)"
   ]
  },
  {
   "cell_type": "code",
   "execution_count": 54,
   "id": "2a89fc15",
   "metadata": {},
   "outputs": [
    {
     "data": {
      "text/html": [
       "\n",
       "<link rel=\"stylesheet\" type=\"text/css\" href=\"https://cdn.jsdelivr.net/gh/bmabey/pyLDAvis@3.4.0/pyLDAvis/js/ldavis.v1.0.0.css\">\n",
       "\n",
       "\n",
       "<div id=\"ldavis_el343421405607959090566087942280\" style=\"background-color:white;\"></div>\n",
       "<script type=\"text/javascript\">\n",
       "\n",
       "var ldavis_el343421405607959090566087942280_data = {\"mdsDat\": {\"x\": [-0.24352303362204095, 0.13055719395525933, -0.05665667547392677, 0.04142748483975026, 0.12819503030095822], \"y\": [0.00682972067947379, -0.05588474470164393, 0.038523662874467964, -0.11285215230956128, 0.12338351345726331], \"topics\": [1, 2, 3, 4, 5], \"cluster\": [1, 1, 1, 1, 1], \"Freq\": [22.896957296534588, 20.43196854284182, 32.00626407252672, 12.368825612931875, 12.295984475165003]}, \"tinfo\": {\"Term\": [\"states\", \"state\", \"said\", \"mrs\", \"united\", \"shall\", \"development\", \"tax\", \"feed\", \"fiscal\", \"college\", \"government\", \"ll\", \"don\", \"000\", \"university\", \"department\", \"didn\", \"sales\", \"president\", \"rhode\", \"got\", \"equipment\", \"little\", \"mother\", \"class\", \"act\", \"program\", \"system\", \"property\", \"hair\", \"baby\", \"clothes\", \"walls\", \"anne\", \"fig\", \"pale\", \"pink\", \"dry\", \"yellow\", \"entrance\", \"hadn\", \"ham\", \"couldn\", \"frames\", \"fingers\", \"flowers\", \"windows\", \"bride\", \"hell\", \"handsome\", \"coat\", \"cloth\", \"sweet\", \"stared\", \"liked\", \"colored\", \"studio\", \"bed\", \"trees\", \"shelter\", \"mother\", \"looked\", \"clay\", \"wasn\", \"guests\", \"didn\", \"woman\", \"sat\", \"pieces\", \"colors\", \"eyes\", \"drill\", \"mrs\", \"ll\", \"don\", \"thought\", \"room\", \"sun\", \"inch\", \"ve\", \"black\", \"little\", \"knew\", \"went\", \"sure\", \"got\", \"door\", \"look\", \"son\", \"know\", \"said\", \"way\", \"come\", \"came\", \"good\", \"place\", \"away\", \"old\", \"water\", \"right\", \"man\", \"let\", \"life\", \"left\", \"house\", \"day\", \"home\", \"systems\", \"marketing\", \"electronic\", \"boats\", \"missiles\", \"components\", \"aircraft\", \"machine\", \"rhode\", \"assessment\", \"shipments\", \"laboratory\", \"bankers\", \"savings\", \"yield\", \"industrial\", \"forests\", \"compared\", \"machines\", \"procurement\", \"missile\", \"conservation\", \"utility\", \"inventories\", \"polaris\", \"manufacturing\", \"machinery\", \"investment\", \"recreation\", \"banks\", \"property\", \"industry\", \"equipment\", \"sales\", \"radiation\", \"planning\", \"development\", \"medical\", \"providence\", \"billion\", \"system\", \"shares\", \"manufacturers\", \"island\", \"1960\", \"production\", \"1959\", \"products\", \"research\", \"co\", \"range\", \"000\", \"program\", \"business\", \"cost\", \"million\", \"available\", \"state\", \"small\", \"company\", \"national\", \"1961\", \"provide\", \"areas\", \"service\", \"use\", \"military\", \"tax\", \"public\", \"khrushchev\", \"player\", \"rayburn\", \"congo\", \"republican\", \"moscow\", \"southern\", \"baseball\", \"railroad\", \"castro\", \"troops\", \"yards\", \"charter\", \"yankees\", \"premier\", \"alexander\", \"democrats\", \"captain\", \"chinese\", \"coach\", \"laos\", \"gen\", \"cuban\", \"opposition\", \"soviet\", \"katanga\", \"republicans\", \"pope\", \"bombs\", \"robinson\", \"berlin\", \"speaker\", \"communist\", \"democratic\", \"eisenhower\", \"league\", \"mayor\", \"cuba\", \"st\", \"police\", \"yesterday\", \"china\", \"west\", \"monday\", \"race\", \"john\", \"east\", \"kennedy\", \"city\", \"mr\", \"meeting\", \"party\", \"president\", \"said\", \"week\", \"war\", \"political\", \"nations\", \"game\", \"committee\", \"leaders\", \"american\", \"world\", \"york\", \"home\", \"county\", \"man\", \"united\", \"people\", \"house\", \"state\", \"day\", \"old\", \"000\", \"government\", \"men\", \"national\", \"states\", \"school\", \"academic\", \"faculty\", \"trustees\", \"campus\", \"recognition\", \"classical\", \"professors\", \"mathematics\", \"musical\", \"tends\", \"feed\", \"stockholders\", \"fulfill\", \"meat\", \"unions\", \"chemical\", \"motors\", \"prosperity\", \"cattle\", \"prestige\", \"designer\", \"curriculum\", \"clerical\", \"catholic\", \"collective\", \"recorded\", \"appearances\", \"creative\", \"membership\", \"trust\", \"music\", \"chamber\", \"students\", \"student\", \"colleges\", \"teachers\", \"college\", \"engineer\", \"interior\", \"university\", \"daily\", \"pool\", \"schools\", \"education\", \"art\", \"general\", \"anti\", \"members\", \"technical\", \"labor\", \"design\", \"administration\", \"level\", \"work\", \"school\", \"president\", \"problem\", \"board\", \"department\", \"american\", \"good\", \"men\", \"aid\", \"world\", \"high\", \"cousin\", \"rehabilitation\", \"coal\", \"vocational\", \"definition\", \"denied\", \"thereof\", \"bonds\", \"payment\", \"rico\", \"puerto\", \"coordination\", \"filing\", \"adopting\", \"recommendation\", \"calendar\", \"hated\", \"proceedings\", \"commodities\", \"sectors\", \"connections\", \"62\", \"vehicles\", \"allocation\", \"treasury\", \"tractor\", \"adjustments\", \"upstairs\", \"shall\", \"assigned\", \"india\", \"exercise\", \"interference\", \"payments\", \"fiscal\", \"authorized\", \"claim\", \"stations\", \"insurance\", \"claims\", \"class\", \"states\", \"income\", \"return\", \"tax\", \"united\", \"junior\", \"hearing\", \"act\", \"countries\", \"cars\", \"state\", \"agreement\", \"department\", \"government\", \"secretary\", \"officer\", \"section\", \"title\", \"federal\", \"use\", \"service\", \"30\", \"board\", \"services\", \"pay\", \"local\", \"day\"], \"Freq\": [328.0, 485.0, 803.0, 307.0, 298.0, 123.0, 199.0, 172.0, 93.0, 107.0, 120.0, 273.0, 167.0, 178.0, 282.0, 122.0, 153.0, 124.0, 117.0, 297.0, 86.0, 147.0, 105.0, 237.0, 97.0, 97.0, 127.0, 230.0, 142.0, 95.0, 35.26603169767952, 35.259854572870886, 32.342823917150504, 32.33880808918397, 34.23407300433104, 31.32761923162946, 26.498517625454525, 25.524771041025037, 23.573236778164134, 25.427138253320607, 21.61942811514908, 30.99304467895151, 19.675700186736588, 51.4398170723851, 20.589733305570057, 17.726312752092994, 23.30504081082286, 16.75197331091851, 17.677966184967996, 15.781789493525496, 15.780666162782113, 15.765038139000268, 14.807347406646546, 14.806857679256796, 14.80652524389839, 14.805562659021444, 15.721341674975088, 14.793031300690545, 34.148748494261234, 27.74245501030455, 57.20416985925258, 90.0598580171452, 78.9338778496885, 75.71076669182492, 53.90723878296302, 29.982839371430074, 108.73073941993067, 50.250850745194896, 34.934191866446376, 48.29752376267054, 27.141746207592874, 83.99183249657642, 31.328311483268145, 234.33243224195547, 134.7368238882847, 142.22532063652014, 113.48998687104942, 84.70739288661451, 47.851073173593534, 58.28164360651546, 69.82209572678256, 54.44733492420315, 159.93873456068286, 71.3290379354531, 100.47914727932319, 70.80739412891528, 101.54763550743239, 56.564345442016226, 89.14937958191959, 57.94278765631485, 112.80221967394931, 300.19157995270234, 143.0821472058167, 108.66785528409238, 97.93192846288227, 146.7201649075114, 107.63695959300979, 81.83857826579683, 125.33252753578054, 93.65427756652959, 105.80662989454636, 122.4339267375079, 76.37882747857967, 81.85609009063374, 81.2583389474532, 87.7113289787197, 85.95109916972255, 84.11085690371313, 37.62033917696881, 41.26043043714822, 26.108504126894104, 38.01490066718646, 22.240995977940432, 21.223514374686573, 54.24848359225272, 50.39470006191914, 82.33814930496473, 17.226327234067078, 13.59950271707891, 16.290888590985382, 10.740632157231788, 17.00538725255218, 15.133342494227245, 72.03843499106017, 14.938223060271662, 24.574363297207974, 28.90817387123342, 17.448867762039566, 36.584742597938394, 7.854789008100246, 11.32225811859976, 6.9109631319057625, 6.906977941612578, 18.167211407818066, 30.179415379306594, 24.918058009903863, 32.62393120086375, 16.267831354180657, 85.04409531611364, 85.23076408361716, 92.04061867537715, 102.21030740338124, 31.419941862258327, 72.29354736159614, 160.58456695669352, 84.12221117794013, 39.27101304252792, 47.153525908302264, 110.9903156769949, 32.526568880509394, 35.56961213374269, 88.51387155669505, 93.20958887097937, 63.84974612826232, 50.2719627394997, 49.696057546593224, 72.63469421541059, 46.826210408830356, 53.9849678768907, 144.62866634727226, 123.50896845655316, 113.19861054790839, 73.61038906890681, 79.16133829903079, 74.66204969189859, 169.46520342296213, 100.42960965644976, 76.12853270707231, 92.20105914345196, 67.16061893470135, 66.5012565002118, 62.63129522802708, 86.66947068148004, 95.41631280398097, 65.253893525583, 67.8417383114945, 65.61364145319371, 73.4255437478312, 48.67768498296591, 46.70642783836323, 43.73337493489185, 39.77817876808443, 37.800107478394295, 34.82722841019421, 39.618770244774986, 32.84180904847266, 29.881397928372543, 26.91281765701294, 26.899591011392946, 27.860295497571588, 25.92561583302561, 24.935202646112835, 24.927860722599316, 23.946196773271815, 23.93872466553852, 22.949710429481545, 22.940661109611227, 49.61478194372407, 21.95531968014696, 20.974708622899147, 20.95696065584775, 78.9274395697848, 19.98234147220936, 19.972841684788577, 19.967439518925527, 18.99653596416775, 18.99455107756807, 63.224259726459174, 40.6606865636951, 70.96278176057112, 59.00465760184138, 38.64663320997922, 57.99120476200694, 43.21771150153897, 36.74625566194075, 71.47530467432672, 44.37915026504171, 58.029653582731456, 32.82823725515491, 96.08418538831428, 58.46515417030848, 40.50565929609281, 142.9836847835176, 83.85420121427471, 111.14875577393485, 172.6235320002632, 287.8781423603013, 84.13213702614412, 92.01772270153532, 205.40634873734862, 470.8902208582231, 140.76265143255972, 113.01139950261589, 71.0503823362001, 67.1651888988562, 73.87620209973869, 83.76171945290793, 50.00246714063645, 148.646150168054, 138.13586962558054, 96.83009236354992, 140.02404620727447, 76.83350051553313, 129.58037547484693, 125.62152536157578, 118.36210204722745, 110.56501449328195, 148.8451794619117, 119.60071243642358, 108.76991140081078, 105.30536803757708, 99.52164947706372, 90.46561781119033, 91.5784925449438, 96.15786407278623, 83.84436994950914, 27.814826569302756, 48.9368470900437, 18.50350998538595, 14.879468477087547, 15.473941152164237, 9.37335260705386, 8.429864173735849, 7.54627241966445, 18.414920463159184, 7.518959799427074, 84.44155436104485, 18.268486568333188, 6.622128289059259, 19.54171382466246, 18.587130254335694, 23.146111999202635, 38.25197181315946, 4.77328867868247, 17.381566736920433, 10.238816773832221, 14.802706325018884, 7.011676741661498, 4.663272913791548, 25.47959588243594, 10.014582060857423, 7.58239815891868, 4.540015041328979, 12.853649254073671, 19.425628383036596, 29.706978723474926, 46.8250108783509, 21.450400541392423, 52.99436840195904, 54.95528137360918, 16.311008295186152, 25.620730698223518, 83.6201422971399, 24.941675902345793, 28.63345949233642, 67.01241734256229, 33.33126174189973, 43.62737654411711, 49.32037920830763, 46.41828570415848, 34.85619603196493, 67.66899625921916, 32.10381351159165, 51.62302814445527, 31.177936996002824, 33.89549304217412, 35.040820639017696, 44.49327955892456, 35.22883442674117, 56.48861252778213, 47.1671195115634, 55.687789661334854, 39.64150536052152, 42.71566054538537, 38.01482404768159, 43.0151097836717, 42.90256178570242, 38.25715440917869, 34.06878160168501, 37.62879650451363, 34.84607073269695, 24.895381739117955, 17.608710471055936, 22.617152720693554, 12.988354717680929, 12.08165117895218, 17.255761258059344, 11.043916669732525, 28.50439130794236, 36.75187172723363, 17.29261904159075, 17.289973715259784, 6.586201822372038, 15.531276371536116, 5.6697498607221934, 16.06995842193481, 20.1257367823582, 5.626627615289117, 6.416436823858613, 14.343171489794313, 4.761534756745242, 5.547238482984928, 5.532508833757317, 35.569508144024006, 10.223530392476125, 22.866566967658542, 19.49937341173727, 10.91357282723519, 5.430408333634538, 101.16733937850357, 9.14162814612726, 29.60437781154307, 21.945570724591946, 28.494458626329322, 31.902747941397365, 82.24350507900935, 23.61999226739122, 32.823688144756126, 43.573997396850196, 25.757310222259772, 22.213358197218593, 63.52515544416815, 175.30239292056814, 50.039862686244966, 41.161012434360075, 86.65875331991886, 128.39237926387497, 39.91034171743888, 33.81578682770542, 65.01077528351269, 47.42060534620213, 40.20927959281323, 156.29426259717025, 38.83917469224609, 66.0476200298724, 93.49618556474711, 54.83909075025252, 32.98378789632165, 41.664568001742005, 29.98997040790962, 43.233051375569374, 57.37752089386311, 52.701149146647246, 42.22418118531061, 42.52715360133068, 36.829108002786654, 37.096810629376606, 36.74442128741989, 37.17615767602736], \"Total\": [328.0, 485.0, 803.0, 307.0, 298.0, 123.0, 199.0, 172.0, 93.0, 107.0, 120.0, 273.0, 167.0, 178.0, 282.0, 122.0, 153.0, 124.0, 117.0, 297.0, 86.0, 147.0, 105.0, 237.0, 97.0, 97.0, 127.0, 230.0, 142.0, 95.0, 36.02603912499987, 36.02588883819038, 33.10322172299766, 33.103199451516225, 35.05056255948614, 32.12853787483274, 27.257595896582252, 26.283381057698225, 24.334723323645942, 26.284575607309385, 22.38617131270358, 32.13491772930474, 20.43764235373044, 53.48541765786139, 21.413009212119388, 18.48897769781581, 24.31987835813565, 17.514841028502058, 18.489977886518652, 16.54070720566732, 16.540683839194863, 16.540152118252497, 15.566432075823185, 15.566368553159586, 15.566439385894098, 15.566408536159072, 16.54112310277152, 15.566128130021564, 35.961890577969264, 29.216873363902376, 60.42030248595261, 97.50813665440425, 85.71452146351685, 82.76557482881317, 58.48806964583607, 32.15043643449324, 124.77305109139077, 55.49593407027595, 37.89639184076532, 53.448753785668885, 29.18685535443567, 98.42108266493304, 34.108659255171276, 307.99715835781427, 167.83422712513703, 178.18542278378126, 139.8217103611609, 103.42674442190598, 54.562238116232024, 68.76954856434934, 84.83647160041045, 64.26201397041545, 237.75277971425643, 90.51973633420371, 137.70593095628735, 91.7744400912997, 147.7937685617617, 70.06214294099416, 129.86657516906678, 73.99592681862178, 191.4807208043414, 803.8548070648293, 274.8542726057724, 186.07372334983498, 163.1589979967047, 306.43403590768935, 190.1554441273065, 123.89985251249689, 254.84946828941258, 162.71698521260248, 213.5733828440322, 283.0153604519203, 121.95636925526736, 161.53017716157905, 163.20991301290167, 234.12184367687414, 302.34647433345026, 268.51376419796026, 38.38900181276886, 42.21975114655719, 26.8702395114885, 39.3253051125375, 23.031355908186363, 22.069023878838756, 56.676640666140976, 52.83541185825136, 86.46800449904792, 18.22147763216329, 14.390064081926623, 17.262361508112335, 11.51144266243097, 18.237457198455772, 16.292903446551144, 78.46760127905372, 16.284197226960195, 26.802268957257596, 31.645263380810665, 19.147274411366578, 40.18955772227334, 8.631750433563742, 12.45816909897065, 7.67183664771721, 7.671950307157882, 20.188446423100277, 33.58228715547518, 27.758165731678805, 36.446484492775745, 18.179838892874397, 95.59958109020084, 96.93212392160403, 105.65758026062856, 117.78573708942233, 35.559443489422534, 85.0119273221592, 199.00113683933102, 101.02292341395633, 45.1438148835944, 54.901189630749776, 142.6626279152401, 37.27576952579078, 41.99097586369723, 120.33277045687886, 129.77818451581422, 84.83256378608144, 63.72708403807202, 62.84418723668018, 102.98876739202461, 59.70895018137999, 72.90815716856, 282.9442741244361, 230.321572697867, 209.32374748162187, 115.9403377508098, 128.99304695412945, 119.71572579817433, 485.5254739281198, 211.37539248235066, 138.53740854960478, 215.73422314818578, 114.91801537520551, 112.93575546782296, 99.90679935398617, 203.57909034218522, 253.44869724604678, 123.30539886857125, 172.80964183116572, 200.8053820739529, 74.18132611605122, 49.44169052826689, 47.46260119923941, 44.49359036010493, 40.53551399617134, 38.556389850764745, 35.587527828435455, 40.52408901130402, 33.60786999510343, 30.63965223281021, 27.670894341231293, 27.670809878218424, 28.659135933770283, 26.681481371686946, 25.69180620359062, 25.691678325478676, 24.702282074756546, 24.70215427298778, 23.712487033002024, 23.711939322752944, 51.34436129166906, 22.722416271833225, 21.733411082028468, 21.732251919217518, 81.93116365784131, 20.74359979320196, 20.74291137765738, 20.743329613458634, 19.75425783489285, 19.754312772549568, 66.10674015267459, 42.43698376216299, 74.99667222533022, 62.1303832412946, 40.45277924173401, 61.20732427285939, 45.37927277280926, 38.47958552212626, 78.03996648950972, 47.29725623534732, 63.02723087036463, 34.528652937106486, 108.34119862739145, 64.00922906655555, 43.34070314169635, 171.40817645781522, 96.50766365165023, 132.04188079153838, 217.90548917781632, 392.85663935368336, 99.3819134748066, 110.4119071013218, 297.0893859119427, 803.8548070648293, 190.95279899715098, 148.12895827305636, 84.33186741272108, 80.6543681191089, 91.54281280787264, 111.05863796939236, 55.26520309710708, 262.87614880789016, 256.08998245885516, 148.4697207814733, 268.51376419796026, 105.84498183835265, 283.0153604519203, 298.7240339741692, 265.61772341053455, 234.12184367687414, 485.5254739281198, 302.34647433345026, 254.84946828941258, 282.9442741244361, 273.1049196397213, 193.4951872205605, 215.73422314818578, 328.0876630034327, 171.68266645156052, 28.587671191002865, 50.75235104005465, 19.380805810593976, 15.69330433375888, 16.6334148630752, 10.16563158813518, 9.24571212382062, 8.32222688895905, 20.34853979312962, 8.322341294361454, 93.52912134200898, 20.35067352827827, 7.401195317063832, 22.202972880525117, 21.263556998272573, 26.864176614307762, 44.46685073473463, 5.559156794388772, 20.429848324794314, 12.080566726948895, 17.616166085442206, 8.344571664079321, 5.563614525856893, 30.740062340111105, 12.097121988775964, 9.30906225992751, 5.575810965371213, 15.790102910241012, 24.236359627179457, 37.140658075135555, 59.64261324812846, 27.081082977874342, 68.97438698866304, 71.6827549228916, 20.467141713564445, 33.34760135025246, 120.99975166695646, 32.58028930812073, 39.89608051957486, 122.31078776847795, 52.49852760150617, 75.23212830270077, 89.45812584148688, 84.56146294600381, 57.49325835273572, 198.00621277778868, 57.79720640203337, 140.2199458281247, 57.24356765830152, 68.34216300022534, 74.72871037779429, 131.4090715711945, 82.98496450235838, 256.9778623927558, 171.68266645156052, 297.0893859119427, 117.36282478725461, 173.0251476470948, 153.0306200256716, 262.87614880789016, 306.43403590768935, 193.4951872205605, 99.64739691842246, 256.08998245885516, 217.96093203160197, 25.71990035695814, 18.379206160058793, 23.8849950962222, 13.795801363596583, 12.8773938734377, 18.39587213444215, 11.965555537317123, 31.301788527830094, 40.525553449448196, 19.305747619464782, 19.305381735641987, 7.373665018594349, 17.516110794478653, 6.4565048679038695, 18.38654313683199, 23.075914689335146, 6.4593709563274135, 7.374057915469397, 16.593451639249754, 5.538818995171575, 6.462219526241361, 6.457204216744045, 41.58244844081579, 11.963052970316332, 26.870254060738816, 23.091351462145607, 12.931560935207864, 6.471692815484687, 123.04949327572986, 11.129093826135728, 36.0872659677042, 26.774612595552824, 35.191972553443726, 39.79154818535329, 107.51555928474963, 29.573704296915572, 42.546659941506704, 57.80855935459395, 33.29164203718922, 28.658975142612604, 97.16968285832576, 328.0876630034327, 79.94285226747931, 64.56516799991908, 172.80964183116572, 298.7240339741692, 62.790765491912694, 50.55168073966487, 127.8675922036167, 82.87435176840472, 65.8464797371971, 485.5254739281198, 64.87874739797839, 153.0306200256716, 273.1049196397213, 119.84296064796644, 52.256274530524955, 81.49566812100723, 44.58064300425605, 112.63804601931179, 253.44869724604678, 203.57909034218522, 114.38793137157592, 173.0251476470948, 93.38657624530414, 103.89058589990495, 128.42114372832097, 302.34647433345026], \"Category\": [\"Default\", \"Default\", \"Default\", \"Default\", \"Default\", \"Default\", \"Default\", \"Default\", \"Default\", \"Default\", \"Default\", \"Default\", \"Default\", \"Default\", \"Default\", \"Default\", \"Default\", \"Default\", \"Default\", \"Default\", \"Default\", \"Default\", \"Default\", \"Default\", \"Default\", \"Default\", \"Default\", \"Default\", \"Default\", \"Default\", \"Topic1\", \"Topic1\", \"Topic1\", \"Topic1\", \"Topic1\", \"Topic1\", \"Topic1\", \"Topic1\", \"Topic1\", \"Topic1\", \"Topic1\", \"Topic1\", \"Topic1\", \"Topic1\", \"Topic1\", \"Topic1\", \"Topic1\", \"Topic1\", \"Topic1\", \"Topic1\", \"Topic1\", \"Topic1\", \"Topic1\", \"Topic1\", \"Topic1\", \"Topic1\", \"Topic1\", \"Topic1\", \"Topic1\", \"Topic1\", \"Topic1\", \"Topic1\", \"Topic1\", \"Topic1\", \"Topic1\", \"Topic1\", \"Topic1\", \"Topic1\", \"Topic1\", \"Topic1\", \"Topic1\", \"Topic1\", \"Topic1\", \"Topic1\", \"Topic1\", \"Topic1\", \"Topic1\", \"Topic1\", \"Topic1\", \"Topic1\", \"Topic1\", \"Topic1\", \"Topic1\", \"Topic1\", \"Topic1\", \"Topic1\", \"Topic1\", \"Topic1\", \"Topic1\", \"Topic1\", \"Topic1\", \"Topic1\", \"Topic1\", \"Topic1\", \"Topic1\", \"Topic1\", \"Topic1\", \"Topic1\", \"Topic1\", \"Topic1\", \"Topic1\", \"Topic1\", \"Topic1\", \"Topic1\", \"Topic1\", \"Topic1\", \"Topic1\", \"Topic1\", \"Topic2\", \"Topic2\", \"Topic2\", \"Topic2\", \"Topic2\", \"Topic2\", \"Topic2\", \"Topic2\", \"Topic2\", \"Topic2\", \"Topic2\", \"Topic2\", \"Topic2\", \"Topic2\", \"Topic2\", \"Topic2\", \"Topic2\", \"Topic2\", \"Topic2\", \"Topic2\", \"Topic2\", \"Topic2\", \"Topic2\", \"Topic2\", \"Topic2\", \"Topic2\", \"Topic2\", \"Topic2\", \"Topic2\", \"Topic2\", \"Topic2\", \"Topic2\", \"Topic2\", \"Topic2\", \"Topic2\", \"Topic2\", \"Topic2\", \"Topic2\", \"Topic2\", \"Topic2\", \"Topic2\", \"Topic2\", \"Topic2\", \"Topic2\", \"Topic2\", \"Topic2\", \"Topic2\", \"Topic2\", \"Topic2\", \"Topic2\", \"Topic2\", \"Topic2\", \"Topic2\", \"Topic2\", \"Topic2\", \"Topic2\", \"Topic2\", \"Topic2\", \"Topic2\", \"Topic2\", \"Topic2\", \"Topic2\", \"Topic2\", \"Topic2\", \"Topic2\", \"Topic2\", \"Topic2\", \"Topic2\", \"Topic2\", \"Topic3\", \"Topic3\", \"Topic3\", \"Topic3\", \"Topic3\", \"Topic3\", \"Topic3\", \"Topic3\", \"Topic3\", \"Topic3\", \"Topic3\", \"Topic3\", \"Topic3\", \"Topic3\", \"Topic3\", \"Topic3\", \"Topic3\", \"Topic3\", \"Topic3\", \"Topic3\", \"Topic3\", \"Topic3\", \"Topic3\", \"Topic3\", \"Topic3\", \"Topic3\", \"Topic3\", \"Topic3\", \"Topic3\", \"Topic3\", \"Topic3\", \"Topic3\", \"Topic3\", \"Topic3\", \"Topic3\", \"Topic3\", \"Topic3\", \"Topic3\", \"Topic3\", \"Topic3\", \"Topic3\", \"Topic3\", \"Topic3\", \"Topic3\", \"Topic3\", \"Topic3\", \"Topic3\", \"Topic3\", \"Topic3\", \"Topic3\", \"Topic3\", \"Topic3\", \"Topic3\", \"Topic3\", \"Topic3\", \"Topic3\", \"Topic3\", \"Topic3\", \"Topic3\", \"Topic3\", \"Topic3\", \"Topic3\", \"Topic3\", \"Topic3\", \"Topic3\", \"Topic3\", \"Topic3\", \"Topic3\", \"Topic3\", \"Topic3\", \"Topic3\", \"Topic3\", \"Topic3\", \"Topic3\", \"Topic3\", \"Topic3\", \"Topic3\", \"Topic3\", \"Topic3\", \"Topic4\", \"Topic4\", \"Topic4\", \"Topic4\", \"Topic4\", \"Topic4\", \"Topic4\", \"Topic4\", \"Topic4\", \"Topic4\", \"Topic4\", \"Topic4\", \"Topic4\", \"Topic4\", \"Topic4\", \"Topic4\", \"Topic4\", \"Topic4\", \"Topic4\", \"Topic4\", \"Topic4\", \"Topic4\", \"Topic4\", \"Topic4\", \"Topic4\", \"Topic4\", \"Topic4\", \"Topic4\", \"Topic4\", \"Topic4\", \"Topic4\", \"Topic4\", \"Topic4\", \"Topic4\", \"Topic4\", \"Topic4\", \"Topic4\", \"Topic4\", \"Topic4\", \"Topic4\", \"Topic4\", \"Topic4\", \"Topic4\", \"Topic4\", \"Topic4\", \"Topic4\", \"Topic4\", \"Topic4\", \"Topic4\", \"Topic4\", \"Topic4\", \"Topic4\", \"Topic4\", \"Topic4\", \"Topic4\", \"Topic4\", \"Topic4\", \"Topic4\", \"Topic4\", \"Topic4\", \"Topic4\", \"Topic4\", \"Topic4\", \"Topic4\", \"Topic4\", \"Topic5\", \"Topic5\", \"Topic5\", \"Topic5\", \"Topic5\", \"Topic5\", \"Topic5\", \"Topic5\", \"Topic5\", \"Topic5\", \"Topic5\", \"Topic5\", \"Topic5\", \"Topic5\", \"Topic5\", \"Topic5\", \"Topic5\", \"Topic5\", \"Topic5\", \"Topic5\", \"Topic5\", \"Topic5\", \"Topic5\", \"Topic5\", \"Topic5\", \"Topic5\", \"Topic5\", \"Topic5\", \"Topic5\", \"Topic5\", \"Topic5\", \"Topic5\", \"Topic5\", \"Topic5\", \"Topic5\", \"Topic5\", \"Topic5\", \"Topic5\", \"Topic5\", \"Topic5\", \"Topic5\", \"Topic5\", \"Topic5\", \"Topic5\", \"Topic5\", \"Topic5\", \"Topic5\", \"Topic5\", \"Topic5\", \"Topic5\", \"Topic5\", \"Topic5\", \"Topic5\", \"Topic5\", \"Topic5\", \"Topic5\", \"Topic5\", \"Topic5\", \"Topic5\", \"Topic5\", \"Topic5\", \"Topic5\", \"Topic5\", \"Topic5\", \"Topic5\", \"Topic5\", \"Topic5\", \"Topic5\"], \"logprob\": [30.0, 29.0, 28.0, 27.0, 26.0, 25.0, 24.0, 23.0, 22.0, 21.0, 20.0, 19.0, 18.0, 17.0, 16.0, 15.0, 14.0, 13.0, 12.0, 11.0, 10.0, 9.0, 8.0, 7.0, 6.0, 5.0, 4.0, 3.0, 2.0, 1.0, -6.6963, -6.6965, -6.7828, -6.7829, -6.726, -6.8147, -6.9821, -7.0195, -7.0991, -7.0234, -7.1856, -6.8254, -7.2798, -6.3188, -7.2344, -7.3841, -7.1105, -7.4407, -7.3869, -7.5003, -7.5004, -7.5014, -7.5641, -7.5641, -7.5641, -7.5642, -7.5042, -7.565, -6.7285, -6.9362, -6.2126, -5.7587, -5.8906, -5.9323, -6.2719, -6.8586, -5.5703, -6.3422, -6.7057, -6.3818, -6.9581, -5.8285, -6.8147, -4.8025, -5.3559, -5.3018, -5.5275, -5.82, -6.3911, -6.1939, -6.0132, -6.262, -5.1844, -5.9919, -5.6492, -5.9992, -5.6387, -6.2238, -5.7689, -6.1997, -5.5336, -4.5548, -5.2958, -5.5709, -5.6749, -5.2707, -5.5804, -5.8544, -5.4282, -5.7196, -5.5976, -5.4516, -5.9235, -5.8542, -5.8616, -5.7851, -5.8054, -5.8271, -6.5177, -6.4254, -6.883, -6.5073, -7.0434, -7.0902, -6.1517, -6.2254, -5.7345, -7.2989, -7.5353, -7.3547, -7.7713, -7.3118, -7.4284, -5.8681, -7.4414, -6.9436, -6.7812, -7.286, -6.5457, -8.0842, -7.7185, -8.2122, -8.2128, -7.2457, -6.7381, -6.9297, -6.6602, -7.3561, -5.7021, -5.6999, -5.6231, -5.5183, -6.6978, -5.8646, -5.0665, -5.713, -6.4748, -6.2919, -5.4358, -6.6632, -6.5738, -5.6621, -5.6104, -5.9888, -6.2278, -6.2394, -5.8598, -6.2988, -6.1566, -5.1711, -5.329, -5.4161, -5.8465, -5.7738, -5.8323, -5.0126, -5.5358, -5.8129, -5.6213, -5.9382, -5.9481, -6.008, -5.6832, -5.587, -5.967, -5.9281, -5.9615, -6.2979, -6.7089, -6.7502, -6.816, -6.9108, -6.9618, -7.0437, -6.9148, -7.1024, -7.1969, -7.3015, -7.302, -7.2669, -7.3389, -7.3778, -7.3781, -7.4183, -7.4186, -7.4608, -7.4612, -6.6898, -7.5051, -7.5508, -7.5517, -6.2256, -7.5993, -7.5997, -7.6, -7.6499, -7.65, -6.4474, -6.8889, -6.332, -6.5165, -6.9397, -6.5338, -6.8279, -6.9901, -6.3248, -6.8014, -6.5332, -7.1028, -6.0289, -6.5257, -6.8927, -5.6314, -6.165, -5.8833, -5.443, -4.9316, -6.1617, -6.0721, -5.2691, -4.4395, -5.647, -5.8666, -6.3307, -6.387, -6.2917, -6.1661, -6.6821, -5.5926, -5.6659, -6.0212, -5.6523, -6.2525, -5.7298, -5.7608, -5.8204, -5.8885, -5.5912, -5.81, -5.9049, -5.9373, -5.9937, -6.0892, -6.0769, -6.0281, -6.1652, -6.3178, -5.7528, -6.7254, -6.9434, -6.9042, -7.4055, -7.5116, -7.6223, -6.7302, -7.6259, -5.2073, -6.7382, -7.753, -6.6708, -6.7209, -6.5015, -5.9992, -8.0803, -6.788, -7.3172, -6.9486, -7.6958, -8.1037, -6.4055, -7.3393, -7.6175, -8.1304, -7.0897, -6.6768, -6.252, -5.797, -6.5776, -5.6732, -5.6369, -6.8515, -6.4, -5.2171, -6.4268, -6.2888, -5.4385, -6.1369, -5.8677, -5.745, -5.8057, -6.0921, -5.4287, -6.1744, -5.6994, -6.2037, -6.1201, -6.0869, -5.848, -6.0815, -5.6093, -5.7897, -5.6236, -5.9635, -5.8888, -6.0054, -5.8818, -5.8844, -5.999, -6.115, -6.0156, -6.0924, -6.4228, -6.7691, -6.5188, -7.0734, -7.1458, -6.7893, -7.2356, -6.2874, -6.0333, -6.7872, -6.7873, -7.7525, -6.8946, -7.9023, -6.8605, -6.6355, -7.91, -7.7786, -6.9742, -8.0769, -7.9242, -7.9268, -6.066, -7.3128, -6.5078, -6.6671, -7.2475, -7.9454, -5.0207, -7.4246, -6.2495, -6.5489, -6.2878, -6.1748, -5.2278, -6.4754, -6.1463, -5.863, -6.3887, -6.5368, -5.486, -4.471, -5.7246, -5.92, -5.1755, -4.7824, -5.9508, -6.1165, -5.4629, -5.7784, -5.9434, -4.5857, -5.978, -5.4471, -5.0995, -5.6331, -6.1414, -5.9078, -6.2366, -5.8709, -5.5878, -5.6728, -5.8945, -5.8873, -6.0312, -6.0239, -6.0335, -6.0218], \"loglift\": [30.0, 29.0, 28.0, 27.0, 26.0, 25.0, 24.0, 23.0, 22.0, 21.0, 20.0, 19.0, 18.0, 17.0, 16.0, 15.0, 14.0, 13.0, 12.0, 11.0, 10.0, 9.0, 8.0, 7.0, 6.0, 5.0, 4.0, 3.0, 2.0, 1.0, 1.4528, 1.4527, 1.4509, 1.4508, 1.4506, 1.4489, 1.4459, 1.4449, 1.4424, 1.441, 1.4393, 1.438, 1.4362, 1.4352, 1.435, 1.432, 1.4315, 1.4296, 1.4293, 1.4272, 1.4271, 1.4262, 1.4242, 1.4241, 1.4241, 1.4241, 1.4233, 1.4232, 1.4224, 1.4224, 1.4195, 1.3947, 1.3918, 1.3851, 1.3926, 1.4044, 1.3365, 1.3749, 1.3928, 1.3728, 1.4015, 1.3156, 1.3891, 1.2008, 1.2545, 1.2488, 1.2655, 1.2745, 1.3429, 1.3087, 1.2794, 1.3084, 1.0777, 1.2359, 1.159, 1.2148, 1.0989, 1.2602, 1.098, 1.2296, 0.945, 0.4892, 0.8213, 0.9363, 0.9637, 0.7377, 0.9051, 1.0594, 0.7645, 0.9218, 0.7718, 0.6362, 1.0062, 0.7944, 0.7768, 0.4924, 0.2164, 0.3134, 1.5678, 1.5651, 1.5593, 1.5542, 1.5532, 1.549, 1.5443, 1.5408, 1.5391, 1.5319, 1.5316, 1.5301, 1.5188, 1.5181, 1.5142, 1.5026, 1.5018, 1.5013, 1.4976, 1.4952, 1.4941, 1.4937, 1.4925, 1.4836, 1.483, 1.4826, 1.4812, 1.4801, 1.4773, 1.4769, 1.4711, 1.4594, 1.4501, 1.4462, 1.4643, 1.426, 1.3736, 1.405, 1.4487, 1.4359, 1.337, 1.4518, 1.4221, 1.281, 1.2571, 1.3039, 1.3509, 1.3533, 1.2389, 1.345, 1.2876, 0.917, 0.9649, 0.9733, 1.1338, 1.0998, 1.1159, 0.5355, 0.8439, 0.9894, 0.738, 1.0509, 1.0585, 1.1211, 0.7341, 0.6112, 0.9517, 0.6531, 0.4695, 1.129, 1.1237, 1.1232, 1.122, 1.1204, 1.1194, 1.1176, 1.1166, 1.1162, 1.1142, 1.1115, 1.111, 1.111, 1.1105, 1.1093, 1.1091, 1.1082, 1.1078, 1.1065, 1.1062, 1.105, 1.1049, 1.1037, 1.1029, 1.1019, 1.1018, 1.1014, 1.1011, 1.1001, 1.1, 1.0947, 1.0965, 1.084, 1.0876, 1.0936, 1.0853, 1.0904, 1.0931, 1.0514, 1.0756, 1.0566, 1.0887, 1.0192, 1.0486, 1.0716, 0.9579, 0.9987, 0.967, 0.9063, 0.8283, 0.9727, 0.957, 0.7702, 0.6044, 0.8343, 0.8686, 0.9679, 0.9562, 0.9248, 0.8572, 1.0392, 0.5691, 0.5219, 0.7118, 0.4882, 0.8189, 0.358, 0.273, 0.3309, 0.389, -0.0431, 0.2118, 0.2878, 0.1509, 0.1298, 0.379, 0.2824, -0.0881, 0.4226, 2.0626, 2.0536, 2.0437, 2.0367, 2.0177, 2.0088, 1.9976, 1.9921, 1.9901, 1.9885, 1.9878, 1.9821, 1.9788, 1.9623, 1.9555, 1.941, 1.9394, 1.9376, 1.9284, 1.9246, 1.916, 1.916, 1.9135, 1.9023, 1.9011, 1.8848, 1.8845, 1.8842, 1.8687, 1.8667, 1.848, 1.8569, 1.8264, 1.8243, 1.863, 1.8264, 1.7205, 1.8228, 1.7583, 1.4883, 1.6357, 1.5451, 1.4946, 1.4902, 1.5896, 1.0163, 1.502, 1.0907, 1.4824, 1.3887, 1.3326, 1.007, 1.2332, 0.575, 0.798, 0.4157, 1.0046, 0.6911, 0.6973, 0.2799, 0.1239, 0.4691, 1.0167, 0.1722, 0.2566, 2.0633, 2.0531, 2.0414, 2.0356, 2.0321, 2.0319, 2.0157, 2.0023, 1.9982, 1.9858, 1.9856, 1.983, 1.9756, 1.966, 1.9612, 1.9591, 1.9579, 1.9568, 1.9502, 1.9447, 1.9432, 1.9413, 1.9397, 1.9388, 1.9346, 1.9268, 1.9262, 1.9205, 1.9001, 1.8992, 1.8979, 1.897, 1.8848, 1.8749, 1.8279, 1.8711, 1.8364, 1.8132, 1.8393, 1.8411, 1.6709, 1.4691, 1.6274, 1.6457, 1.4057, 1.2515, 1.6427, 1.6938, 1.4195, 1.5376, 1.6027, 0.9624, 1.5828, 1.2556, 1.024, 1.3141, 1.6358, 1.425, 1.6995, 1.1383, 0.6104, 0.7445, 1.0993, 0.6926, 1.1654, 1.0661, 0.8446, -0.0]}, \"token.table\": {\"Topic\": [1, 2, 3, 4, 5, 2, 3, 2, 3, 5, 1, 2, 3, 4, 5, 1, 2, 3, 4, 5, 5, 4, 1, 2, 3, 4, 5, 2, 5, 2, 3, 4, 5, 5, 2, 3, 5, 1, 2, 3, 4, 5, 2, 3, 3, 4, 5, 1, 2, 3, 4, 5, 1, 3, 4, 5, 4, 1, 2, 3, 4, 5, 1, 2, 3, 4, 2, 3, 5, 2, 4, 5, 1, 2, 4, 5, 1, 3, 4, 5, 1, 2, 2, 5, 3, 1, 5, 3, 4, 2, 3, 1, 3, 4, 1, 2, 3, 4, 5, 2, 5, 3, 2, 5, 1, 1, 2, 3, 4, 5, 1, 2, 5, 1, 2, 3, 5, 4, 3, 2, 3, 5, 3, 3, 4, 1, 3, 4, 3, 4, 3, 2, 4, 3, 4, 3, 1, 2, 3, 5, 2, 3, 4, 5, 2, 3, 4, 5, 1, 3, 4, 5, 4, 1, 2, 3, 4, 1, 1, 1, 2, 3, 4, 3, 4, 5, 1, 3, 4, 1, 2, 3, 4, 1, 2, 3, 4, 1, 1, 2, 1, 2, 3, 4, 5, 2, 3, 4, 2, 4, 5, 2, 3, 5, 2, 3, 4, 5, 2, 5, 2, 3, 5, 2, 5, 1, 2, 3, 4, 5, 1, 5, 2, 3, 4, 5, 2, 3, 4, 5, 5, 2, 3, 4, 3, 5, 3, 2, 4, 1, 2, 3, 4, 5, 1, 2, 3, 4, 5, 5, 3, 4, 3, 2, 5, 2, 3, 4, 5, 1, 2, 4, 2, 4, 1, 2, 4, 5, 1, 3, 4, 1, 2, 3, 4, 5, 1, 3, 4, 1, 3, 1, 1, 2, 3, 5, 1, 2, 3, 4, 5, 3, 5, 2, 1, 2, 4, 1, 1, 2, 4, 1, 4, 5, 1, 3, 4, 1, 4, 2, 3, 4, 5, 1, 2, 3, 4, 1, 2, 5, 1, 2, 5, 1, 2, 5, 1, 4, 1, 2, 3, 4, 3, 1, 2, 3, 4, 5, 1, 2, 3, 4, 5, 1, 3, 2, 3, 4, 5, 1, 3, 1, 3, 1, 1, 1, 5, 3, 4, 5, 1, 1, 2, 3, 4, 5, 1, 2, 3, 4, 5, 1, 2, 3, 4, 5, 1, 2, 3, 4, 1, 2, 4, 5, 2, 3, 4, 5, 2, 4, 2, 3, 4, 5, 2, 3, 4, 5, 2, 3, 4, 5, 2, 3, 4, 5, 2, 2, 4, 1, 2, 3, 4, 5, 1, 2, 3, 4, 5, 1, 3, 4, 5, 3, 2, 3, 4, 5, 3, 1, 3, 4, 5, 1, 2, 3, 4, 5, 2, 3, 4, 5, 2, 3, 5, 1, 2, 3, 1, 3, 4, 1, 3, 4, 5, 1, 2, 3, 4, 5, 1, 2, 3, 4, 5, 1, 2, 3, 4, 5, 1, 1, 2, 3, 4, 5, 1, 3, 4, 5, 1, 2, 3, 4, 5, 1, 2, 3, 4, 5, 1, 2, 3, 5, 2, 3, 2, 3, 5, 1, 2, 4, 1, 2, 3, 4, 5, 2, 4, 2, 3, 2, 4, 3, 4, 3, 4, 5, 2, 4, 5, 1, 2, 3, 4, 1, 2, 3, 4, 2, 3, 4, 1, 2, 3, 4, 5, 2, 3, 5, 1, 2, 3, 4, 5, 2, 4, 2, 1, 3, 4, 5, 3, 1, 3, 2, 4, 1, 2, 3, 4, 5, 1, 3, 1, 4, 2, 4, 1, 2, 3, 4, 5, 2, 3, 4, 5, 2, 3, 4, 5, 1, 2, 3, 4, 5, 3, 1, 1, 3, 4, 1, 2, 3, 4, 5, 2, 5, 2, 5, 1, 2, 3, 4, 5, 1, 2, 3, 4, 1, 1, 2, 3, 4, 5, 1, 2, 4, 5, 3, 2, 3, 4, 5, 2, 3, 4, 5, 1, 2, 4, 5, 3, 3, 1, 2, 3, 4, 5, 3, 4, 2, 3, 4, 5, 5, 2, 5, 1, 2, 3, 4, 5, 1, 2, 4, 5, 4, 2, 3, 4, 5, 1, 2, 4, 5, 4, 1, 2, 3, 4, 5, 2, 3, 4, 2, 3, 4, 5, 4, 5, 3, 5, 1, 2, 3, 1, 2, 3, 4, 5, 3, 1, 4, 4, 5, 3, 4, 1, 2, 5, 5, 3, 3, 1, 2, 3, 4, 5, 1, 3, 4, 5, 2, 3, 4, 5, 1, 2, 3, 4, 5, 3, 1, 3, 5, 1, 2, 3, 4, 5, 2, 3, 4, 5, 1, 3, 4, 1, 2, 1, 2, 3, 4, 5, 1, 2, 3, 4, 5, 2, 3, 4, 5, 1, 2, 4, 5, 5, 1, 2, 3, 4, 5, 2, 3, 4, 5, 1, 2, 3, 4, 5, 2, 3, 5, 1, 3, 2, 1, 2, 3, 4, 5, 1, 3, 4, 5, 3, 3, 4, 3, 4, 5, 1, 3, 1, 1, 2, 3, 4, 5, 2, 3, 4, 5, 2, 3, 5, 2, 4, 1, 2, 3, 4, 5, 1, 2, 3, 4, 5, 1, 1, 3, 5, 1, 3, 4, 5, 1, 1, 2, 3, 4, 5, 2, 2, 4, 5, 3, 4, 5, 2, 4, 4, 5, 1, 2, 3, 4, 5, 1, 3, 4, 5, 2, 5, 3, 5, 1, 3, 3, 2, 3, 4, 5, 4, 2, 4, 5, 2, 3, 4, 5, 1, 2, 3, 4, 5, 1, 2, 3, 4, 5, 2, 4, 1, 2, 3, 5, 2, 3, 5, 5, 1, 1, 2, 3, 4, 5, 1, 3, 1, 2, 4, 5, 1, 2, 3, 4, 5, 1, 2, 3, 4, 5, 1, 3, 4, 2, 3, 5, 1, 1, 3, 4, 1, 2, 3, 4, 5, 1, 2, 3, 4, 5, 3, 3, 1, 1, 3, 4, 2, 5, 1, 2, 3, 4, 5], \"Freq\": [0.003534264840999079, 0.5124684019448664, 0.3710978083049033, 0.021205589045994473, 0.09542515070697513, 0.7845957610445325, 0.20399489787157846, 0.716607343113722, 0.19263638255745213, 0.09246546362757703, 0.008701855812032741, 0.5830243394061937, 0.21754639530081854, 0.052211134872196446, 0.1479315488045566, 0.017484361995350996, 0.17484361995350997, 0.39339814489539743, 0.04371090498837749, 0.3671716019023709, 0.9291947100637644, 0.979443194687792, 0.01564117979804605, 0.21897651717264469, 0.08602648888925327, 0.17987356767752957, 0.5083383434364966, 0.07733018504188224, 0.8506320354607048, 0.28156351428108395, 0.3120028131222822, 0.33483228725318087, 0.06848842239269609, 0.9292953575899532, 0.15413367860908483, 0.23120051791362725, 0.6011213465754309, 0.01003538507702978, 0.37130924785010183, 0.20070770154059558, 0.3412030926190125, 0.07024769553920845, 0.9527734771383509, 0.03528790656067966, 0.9730777290328778, 0.0835907023467403, 0.8359070234674031, 0.038040727716640424, 0.1521629108665617, 0.5668068429779424, 0.1635751291815538, 0.08368960097660894, 0.9700272268753697, 0.397943108876467, 0.5536599775672585, 0.034603748597953655, 0.8967305439608142, 0.06005597255439058, 0.6305877118211011, 0.18016791766317172, 0.06005597255439058, 0.06005597255439058, 0.2087201237817651, 0.052180030945441276, 0.1391467491878434, 0.6087670276968149, 0.9329649517552177, 0.08985457536997174, 0.8086911783297457, 0.1352552916550662, 0.03381382291376655, 0.8115317499303971, 0.10859057916849091, 0.6264841105874476, 0.10859057916849091, 0.15870930801548672, 0.6618248394745203, 0.2905572465985699, 0.024213103883214158, 0.03228413851095221, 0.9715235662110061, 0.9555709325556452, 0.8800958080146252, 0.05500598800091407, 0.9870672228767974, 0.9454452881525883, 0.027807214357429066, 0.9530041846640823, 0.03025410110044706, 0.8560834531293221, 0.12750179089160116, 0.8403097983337432, 0.1089290479321519, 0.031122585123471973, 0.13292865408738858, 0.034677040196710064, 0.340990895267649, 0.24851878807642214, 0.24851878807642214, 0.9662989235876273, 0.025428919041779664, 0.961817961413839, 0.06389411257512716, 0.9264646323393438, 0.9735003530276852, 0.10987764301333916, 0.539833637413362, 0.12898679832000684, 0.14809595362667452, 0.0716593324000038, 0.043335226943882046, 0.043335226943882046, 0.866704538877641, 0.6006410998060879, 0.09193486221521753, 0.30032054990304397, 0.006128990814347836, 0.9558216473080517, 0.9715751806410019, 0.12149472579140398, 0.27336313303065896, 0.6074736289570198, 0.9791233846928182, 0.16265419193622652, 0.8132709596811325, 0.09789597887384882, 0.04894798943692441, 0.832115820427715, 0.18463072559118393, 0.7754490474829725, 0.9770008441533788, 0.11167288106653568, 0.8561587548434403, 0.9557279880019962, 0.028961454181878673, 0.9699530870797983, 0.06424803731573576, 0.08719376492849855, 0.793922175401592, 0.05506974627063066, 0.09401443040415426, 0.04700721520207713, 0.0705108228031157, 0.7756190508342726, 0.10467924917312708, 0.03489308305770902, 0.06978616611541805, 0.7676478272695986, 0.15436913612108966, 0.12349530889687171, 0.07203893018984184, 0.6586416474499824, 0.8853360385895109, 0.9182561730187141, 0.04832927226414285, 0.024164636132071426, 0.898696337922497, 0.963611952111818, 0.9666732823702406, 0.05024372377820735, 0.7871516725252485, 0.13398326340855293, 0.03349581585213823, 0.9699754915419424, 0.041867289315800034, 0.9629476542634008, 0.9673429775983484, 0.16532857995940306, 0.8266428997970153, 0.18181855497153, 0.024793439314299545, 0.09917375725719818, 0.6942163008003872, 0.09771760160699502, 0.09771760160699502, 0.04885880080349751, 0.7817408128559602, 0.9672861933612685, 0.9250739647050287, 0.034261998692778836, 0.5857893206934458, 0.05374213951316017, 0.2955817673223809, 0.048367925561844154, 0.01612264185394805, 0.0540255139960711, 0.7563571959449953, 0.18908929898624882, 0.06026473706257859, 0.06026473706257859, 0.8437063188761001, 0.026667849927939836, 0.9467086724418642, 0.026667849927939836, 0.5485882895866888, 0.20211147511088534, 0.151583606333164, 0.09383747058719677, 0.9327568512900258, 0.07462054810320207, 0.9515599835902209, 0.9889064839202658, 0.9284735647923427, 0.9268108550604939, 0.949324383783089, 0.07762613232457259, 0.6382593102242635, 0.025875377441524194, 0.04312562906920699, 0.21562814534603497, 0.9535309292383158, 0.0186966848870258, 0.15686397205650496, 0.26546210655716224, 0.01206645938896192, 0.5671235912812103, 0.2456422548185366, 0.7274789854241276, 0.009447779031482176, 0.018895558062964352, 0.9720099865486695, 0.1266616190767735, 0.06333080953838675, 0.8233005239990279, 0.9615488186255157, 0.02598780590879772, 0.9662542120396862, 0.11983838598986167, 0.8388687019290316, 0.0380963065322735, 0.05714445979841025, 0.1904815326613675, 0.6285890577825127, 0.076192613064547, 0.28444188141963506, 0.09922391212312852, 0.3968956484925141, 0.0959164483856909, 0.12237615828519184, 0.931865571398922, 0.9496159032346994, 0.04828555440176437, 0.9715701540193239, 0.05436002124235925, 0.9241203611201073, 0.2613855971653896, 0.05881175936221266, 0.24831631730712014, 0.43128623532289284, 0.33454344218723164, 0.18734432762484973, 0.4683608190621243, 0.1135320812882649, 0.8514906096619869, 0.010050193841931437, 0.8090406042754807, 0.05527606613062291, 0.12562742302414298, 0.8735860752508352, 0.104189164938173, 0.016029102298180463, 0.7969226538374556, 0.016836394095157515, 0.14030328412631263, 0.016836394095157515, 0.028060656825262525, 0.8135634681914453, 0.12845738971443874, 0.05709217320641721, 0.9088601157871673, 0.058636136502397886, 0.9862450326969325, 0.031085614203952408, 0.07253309980922229, 0.8703971977106674, 0.020723742802634938, 0.011825717828918636, 0.34294581703864047, 0.08278002480243046, 0.5439830201302573, 0.023651435657837273, 0.9640870350822468, 0.02472018038672428, 0.9676132581134447, 0.06138680909446357, 0.15346702273615892, 0.7673351136807947, 0.9827495596585362, 0.10410989890991244, 0.8707373363374495, 0.01892907252907499, 0.07469762607628518, 0.07469762607628518, 0.8216738868391369, 0.8534756753893015, 0.12192509648418592, 0.02032084941403099, 0.019703520713962246, 0.96547251498415, 0.32848581192234416, 0.22194987292050283, 0.0710239593345609, 0.3817537814232649, 0.06415114259503982, 0.010691857099173304, 0.021383714198346608, 0.8981159963305575, 0.9648742846864266, 0.05709029885305449, 0.9134447816488719, 0.9735530159748327, 0.2325244845147365, 0.7626803092083357, 0.9457284144805718, 0.9211384381396418, 0.061409229209309454, 0.9807122292794965, 0.9457931726056661, 0.07646695338815286, 0.10923850484021838, 0.808364935817616, 0.010923850484021839, 0.9682068903592469, 0.020201386329675306, 0.22221524962642836, 0.2676683688681978, 0.3434235676044802, 0.15151039747256478, 0.47971172511751436, 0.08158362672066571, 0.2186441196113841, 0.140323837959545, 0.08158362672066571, 0.6901508838471434, 0.31124451624479016, 0.20504940033257157, 0.3661596434510207, 0.08787831442824497, 0.3405284684094492, 0.9331133050440927, 0.06220755366960618, 0.9646827249142208, 0.03111879757787809, 0.9715195133875303, 0.9785864560032994, 0.9673118811500613, 0.9288830198121031, 0.27694430323886426, 0.05934520783689948, 0.6725790221515274, 0.9673105146627552, 0.21104699622650952, 0.29363060344557845, 0.2569267780148812, 0.16057923625930073, 0.07799562904023179, 0.31283312515060296, 0.08938089290017229, 0.5213885419176716, 0.044690446450086144, 0.033517834837564604, 0.3758726593724171, 0.06834048352225766, 0.4741121044356625, 0.06834048352225766, 0.017085120880564415, 0.8433965499384948, 0.04362395947957732, 0.014541319826525774, 0.08724791895915464, 0.012508935716405496, 0.2626876500445154, 0.08756255001483847, 0.6254467858202748, 0.05542121150961873, 0.08313181726442809, 0.027710605754809364, 0.8313181726442809, 0.9175761566094898, 0.07646467971745748, 0.8769022751296114, 0.0618989841267961, 0.03094949206339805, 0.020632994708932033, 0.12015027662293451, 0.030037569155733627, 0.060075138311467255, 0.7809767980490744, 0.08524671344989537, 0.08524671344989537, 0.028415571149965124, 0.7956359921990235, 0.12532559426600237, 0.025065118853200476, 0.7268884467428137, 0.12532559426600237, 0.9124281865520275, 0.9006358792457576, 0.07205087033966061, 0.07479259362041484, 0.7396156480241022, 0.13296461088073747, 0.016620576360092183, 0.033241152720184367, 0.12251457564025979, 0.011668054822881885, 0.8342659198360548, 0.02333610964576377, 0.005834027411440942, 0.015925908725046484, 0.2707404483257902, 0.07962954362523242, 0.6370363490018593, 0.9641528085474513, 0.00757335471144003, 0.8406423729698433, 0.05301348298008021, 0.09845361124872039, 0.9840751550571754, 0.7843593328405664, 0.15466240365870323, 0.01104731454705023, 0.04418925818820092, 0.5901377408928052, 0.010444915768014252, 0.2872351836203919, 0.06266949460808552, 0.04700212095606413, 0.14632255639855923, 0.3365418797166862, 0.49749669175510136, 0.014632255639855922, 0.9268720268939394, 0.9738167686217339, 0.019476335372434678, 0.036189136887559765, 0.054283705331339645, 0.9047284221889941, 0.016337913997711236, 0.9475990118672516, 0.016337913997711236, 0.49629338380688304, 0.44114967449500714, 0.04901663049944524, 0.018381236437291965, 0.6231736846882027, 0.008199653745897404, 0.2049913436474351, 0.10659549869666625, 0.057397576221281825, 0.08435262992491928, 0.4097127739210365, 0.03615112711067969, 0.42176314962459643, 0.04820150281423959, 0.5076450818101635, 0.04333555576428225, 0.26620412826630524, 0.148579048334682, 0.0371447620836705, 0.9636134092945482, 0.6729679467566951, 0.00841209933445869, 0.20189038402700854, 0.050472596006752135, 0.06729679467566951, 0.804365130476897, 0.17874780677264376, 0.0059582602257547915, 0.011916520451509583, 0.015573759444403205, 0.4672127833320961, 0.18688511333283844, 0.03893439861100801, 0.2881145497214593, 0.6853187579955455, 0.1232033722239183, 0.10780295069592852, 0.046201264583969365, 0.03850105381997447, 0.9216641317145452, 0.023333269157330257, 0.04666653831466051, 0.011666634578665128, 0.9463350098252608, 0.03785340039301043, 0.8933280768254306, 0.05955520512169537, 0.029777602560847685, 0.03160030580141699, 0.9164088682410928, 0.03160030580141699, 0.4310720089721979, 0.0212002627363376, 0.45933902595398135, 0.08126767382262746, 0.0035333771227229337, 0.8573270627683447, 0.1428878437947241, 0.891599067246889, 0.049533281513716054, 0.9711094662229751, 0.9612811699009862, 0.9475691736022069, 0.0440729848187073, 0.04503901371140842, 0.9007802742281684, 0.04503901371140842, 0.8314944485995283, 0.05939246061425202, 0.0989874343570867, 0.03018657917831802, 0.08049754447551473, 0.8452242169929046, 0.03018657917831802, 0.04992157113354105, 0.07131653019077293, 0.513479017373565, 0.3708459569920192, 0.041260321904060496, 0.12378096571218149, 0.7839461161771494, 0.17054687754266518, 0.1550426159478774, 0.46512784784363226, 0.19638731353397806, 0.010336174396525162, 0.5271464234042356, 0.4298270836988382, 0.03243977990179911, 0.007752355833222583, 0.612436110824584, 0.16279947249767424, 0.03100942333289033, 0.18605653999734198, 0.9206371529561355, 0.07464625564509207, 0.9552194880623692, 0.031245494269591015, 0.9061193338181395, 0.015622747134795507, 0.031245494269591015, 0.9855694515768127, 0.9229998960905677, 0.07178888080704415, 0.1349319751873768, 0.8545691761867197, 0.11454560135227122, 0.1298183481992407, 0.7330918486545358, 0.010181831231312997, 0.012727289039141247, 0.7597472692528923, 0.2370151737412869, 0.2011984275416797, 0.7880271745382454, 0.04914357541948219, 0.8845843575506793, 0.02317666583926996, 0.4264506514425673, 0.4264506514425673, 0.1112479960284958, 0.013905999503561976, 0.14878301423524415, 0.8307051628134464, 0.012398584519603678, 0.012398584519603678, 0.01913645794661195, 0.21050103741273146, 0.13395520562628366, 0.6315031122381944, 0.4904856221165323, 0.007847769953864516, 0.42770346248561614, 0.051010504700119357, 0.02354330986159355, 0.9663057504606783, 0.9538625526127219, 0.14491190687719274, 0.8332434645438582, 0.018113988359649093, 0.07700408974214207, 0.33689289262187155, 0.12513164583098085, 0.10588062339544535, 0.35614391505740706, 0.07402736655385143, 0.913004187497501, 0.17591675416581556, 0.8041908761865855, 0.24094777704679973, 0.1468275516378936, 0.444247463930037, 0.12423869753975612, 0.04141289917991871, 0.8980564858907927, 0.018709510122724846, 0.018709510122724846, 0.03741902024544969, 0.9892182418587572, 0.5679563921803651, 0.08414168773042446, 0.16828337546084893, 0.0736239767641214, 0.10517710966303058, 0.023526110547062967, 0.8469399796942668, 0.058815276367657425, 0.058815276367657425, 0.9910664355618187, 0.912414668988281, 0.9302865219297196, 0.021142875498402717, 0.021142875498402717, 0.05928956814782656, 0.8419118676991371, 0.04743165451826124, 0.04743165451826124, 0.14621412750335694, 0.026584386818792174, 0.5848565100134278, 0.23925948136912956, 0.9641653665390175, 0.9730728856465555, 0.013463961318313808, 0.06731980659156904, 0.6900280175635827, 0.18849545845639332, 0.037025893625362974, 0.08277757348661763, 0.8277757348661763, 0.27265874060211903, 0.23857639802685415, 0.3408234257526488, 0.15337054158869196, 0.8136632596027108, 0.8878548264764059, 0.05222675449861211, 0.047151704740253104, 0.7544272758440497, 0.011787926185063276, 0.10609133566556948, 0.08251548329544293, 0.01591237064191565, 0.7956185320957826, 0.0636494825676626, 0.1272989651353252, 0.8652659625199478, 0.5383777062110533, 0.2170877847625215, 0.09117686960025903, 0.15196144933376504, 0.010460296882017427, 0.8891252349714812, 0.010460296882017427, 0.08368237505613942, 0.899416977237777, 0.00885459167344849, 0.5932576421210489, 0.07969132506103642, 0.15938265012207284, 0.15938265012207284, 0.8639057222027748, 0.0886057150977205, 0.04430285754886025, 0.32867644939762336, 0.4133355348485263, 0.14939838608982878, 0.10955881646587444, 0.051799027529913055, 0.8805834680085219, 0.9459929587657184, 0.04614599798857163, 0.11248769967926621, 0.8717796725143131, 0.9819128675756008, 0.05486354552553291, 0.7406578645946943, 0.10972709105106582, 0.05486354552553291, 0.04114765914414968, 0.9902533534287872, 0.06011994579777584, 0.9017991869666376, 0.10877520505709379, 0.8702016404567503, 0.10742220559687041, 0.8593776447749633, 0.054874977047414016, 0.9054371212823313, 0.027437488523707008, 0.9793676529466832, 0.9867890167564689, 0.9641848068416479, 0.03883918704235077, 0.7088151635229015, 0.05825878056352616, 0.1553567481694031, 0.04854898380293846, 0.15488227336468066, 0.1393940460282126, 0.06195290934587227, 0.6350173207951907, 0.948327655704173, 0.0346949142330795, 0.051798045831271636, 0.8805667791316177, 0.4963165287193554, 0.018728925612051146, 0.2809338841807672, 0.10300909086628131, 0.09832685946326852, 0.9618152865536403, 0.8218377217140448, 0.16436754434280895, 0.009668679078988763, 0.3732017241962025, 0.01741608046248945, 0.585926706988038, 0.0037320172419620253, 0.0199040919571308, 0.8659792137868282, 0.05093995375216637, 0.008489992292027728, 0.07640993062824955, 0.9235707754728867, 0.026387736442082477, 0.05277547288416495, 0.05483220545047658, 0.9321474926581019, 0.17474099523299497, 0.040772898887698826, 0.4892747866523859, 0.2737608925316921, 0.017474099523299494, 0.011178414376486328, 0.10060572938837696, 0.25710353065918556, 0.5477423044478301, 0.08942731501189062, 0.05840977193948171, 0.3337701253684669, 0.14185230328159842, 0.45893392238164193, 0.1349764994093535, 0.269952998818707, 0.07362354513237462, 0.5153648159266224, 0.902719515542702, 0.00982419165268057, 0.42735233689160484, 0.21613221635897256, 0.08841772487412514, 0.26034107879603513, 0.4176189080704314, 0.11778994843012167, 0.06424906278006637, 0.39620255381040925, 0.016253622398252312, 0.04876086719475693, 0.0731413007921354, 0.04063405599563078, 0.8208079311117418, 0.8852935947349816, 0.026827078628332775, 0.1073083145133311, 0.9433915034313538, 0.049652184391123885, 0.9728935132112074, 0.3453571352024589, 0.47309196603076564, 0.1088111521870761, 0.05204011626338422, 0.01419275898092297, 0.7838269279627935, 0.16217108854402626, 0.040542772136006565, 0.013514257378668855, 0.9834906253879764, 0.9642240689991618, 0.024410735924029415, 0.9661384095953537, 0.023564351453545213, 0.023564351453545213, 0.07688368242452451, 0.90979024202354, 0.9636114995952516, 0.008238496669676666, 0.34807648429383914, 0.3068840009454558, 0.014417369171934166, 0.32130137011738996, 0.12191863489722712, 0.2926047237533451, 0.04876745395889085, 0.5333940276753687, 0.05189542921487101, 0.19028324045452705, 0.7611329618181082, 0.049138422795218566, 0.8844916103139342, 0.11160285355390591, 0.013950356694238239, 0.055801426776952955, 0.7672696181831031, 0.055801426776952955, 0.01449813537544545, 0.1159850830035636, 0.10148694762811815, 0.7684011748986088, 0.01449813537544545, 0.9636307676968364, 0.8797293083496187, 0.09163846961975194, 0.01832769392395039, 0.773635883034179, 0.0762739602991444, 0.02179256008546983, 0.1416516405555539, 0.9636158843839896, 0.021028632682852193, 0.7780594092655312, 0.08411453073140877, 0.05607635382093919, 0.06308589804855659, 0.9898668422100136, 0.3934965623413288, 0.10416085473741056, 0.5034441312308177, 0.08996149283694398, 0.7796662712535145, 0.14993582139490663, 0.4367302916762644, 0.5415455616785678, 0.9612679553793538, 0.9193054150886825, 0.808172062179184, 0.014303930304056356, 0.10012751212839449, 0.050063756064197246, 0.028607860608112712, 0.06729378039059675, 0.11215630065099458, 0.1570188209113924, 0.6729378039059675, 0.12991877088346243, 0.8228188822619287, 0.11164762317537659, 0.8559651110112205, 0.9583503221324897, 0.03422679721901749, 0.9757545118362286, 0.026924671016248552, 0.10769868406499421, 0.8077401304874565, 0.053849342032497104, 0.9803513943478129, 0.047028820252474166, 0.8935475847970091, 0.047028820252474166, 0.11046985259596999, 0.4217939826391581, 0.036823284198656665, 0.42848912522073207, 0.024527681120644067, 0.08175893706881356, 0.3433875356890169, 0.5477848783610508, 0.7725953846320707, 0.248571015296401, 0.37482930878028725, 0.07891143342742889, 0.071020290084686, 0.22489758526817233, 0.882954783533069, 0.08026861668482446, 0.8251168239257765, 0.023574766397879327, 0.14144859838727597, 0.011787383198939664, 0.09619443178516031, 0.048097215892580154, 0.8657498860664428, 0.942315684125716, 0.9666739327377706, 0.0337543722597654, 0.1620209868468739, 0.7628488130706981, 0.0337543722597654, 0.013501748903906161, 0.9232652116403779, 0.06839001567706503, 0.5776901524888852, 0.30113635608463163, 0.030728199600472614, 0.09218459880141784, 0.5202757033546539, 0.09459558242811889, 0.2364889560702972, 0.10551045732367106, 0.04729779121405944, 0.11521171784619004, 0.05236896265735911, 0.7384023734687635, 0.06284275518883094, 0.03142137759441547, 0.7261851345512742, 0.2469029457474332, 0.021785554036538226, 0.08307089190468461, 0.8860895136499692, 0.02769029730156154, 0.9706054409706458, 0.9009669057319352, 0.07207735245855482, 0.018019338114638704, 0.28407116208488575, 0.2257003753551147, 0.16732958862534367, 0.21791760379114522, 0.10506741611358787, 0.10933656885426447, 0.1796243631177202, 0.5388730893531607, 0.14838534344507323, 0.023429264754485247, 0.974458638102077, 0.9757574902516147, 0.9511281587155562, 0.01586615794777364, 0.9202371609708712, 0.06346463179109456, 0.9206462217865273, 0.06137641478576849, 0.06735380081113376, 0.20879678251451467, 0.6533318678679975, 0.060618420730020384, 0.013470760162226751], \"Term\": [\"000\", \"000\", \"000\", \"000\", \"000\", \"1959\", \"1959\", \"1960\", \"1960\", \"1960\", \"1961\", \"1961\", \"1961\", \"1961\", \"1961\", \"30\", \"30\", \"30\", \"30\", \"30\", \"62\", \"academic\", \"act\", \"act\", \"act\", \"act\", \"act\", \"adjustments\", \"adjustments\", \"administration\", \"administration\", \"administration\", \"administration\", \"adopting\", \"agreement\", \"agreement\", \"agreement\", \"aid\", \"aid\", \"aid\", \"aid\", \"aid\", \"aircraft\", \"aircraft\", \"alexander\", \"allocation\", \"allocation\", \"american\", \"american\", \"american\", \"american\", \"american\", \"anne\", \"anti\", \"anti\", \"anti\", \"appearances\", \"areas\", \"areas\", \"areas\", \"areas\", \"areas\", \"art\", \"art\", \"art\", \"art\", \"assessment\", \"assigned\", \"assigned\", \"authorized\", \"authorized\", \"authorized\", \"available\", \"available\", \"available\", \"available\", \"away\", \"away\", \"away\", \"away\", \"baby\", \"bankers\", \"banks\", \"banks\", \"baseball\", \"bed\", \"bed\", \"berlin\", \"berlin\", \"billion\", \"billion\", \"black\", \"black\", \"black\", \"board\", \"board\", \"board\", \"board\", \"board\", \"boats\", \"boats\", \"bombs\", \"bonds\", \"bonds\", \"bride\", \"business\", \"business\", \"business\", \"business\", \"business\", \"calendar\", \"calendar\", \"calendar\", \"came\", \"came\", \"came\", \"came\", \"campus\", \"captain\", \"cars\", \"cars\", \"cars\", \"castro\", \"catholic\", \"catholic\", \"cattle\", \"cattle\", \"cattle\", \"chamber\", \"chamber\", \"charter\", \"chemical\", \"chemical\", \"china\", \"china\", \"chinese\", \"city\", \"city\", \"city\", \"city\", \"claim\", \"claim\", \"claim\", \"claim\", \"claims\", \"claims\", \"claims\", \"claims\", \"class\", \"class\", \"class\", \"class\", \"classical\", \"clay\", \"clay\", \"clay\", \"clerical\", \"cloth\", \"clothes\", \"co\", \"co\", \"co\", \"co\", \"coach\", \"coal\", \"coal\", \"coat\", \"collective\", \"collective\", \"college\", \"college\", \"college\", \"college\", \"colleges\", \"colleges\", \"colleges\", \"colleges\", \"colored\", \"colors\", \"colors\", \"come\", \"come\", \"come\", \"come\", \"come\", \"committee\", \"committee\", \"committee\", \"commodities\", \"commodities\", \"commodities\", \"communist\", \"communist\", \"communist\", \"company\", \"company\", \"company\", \"company\", \"compared\", \"compared\", \"components\", \"congo\", \"connections\", \"conservation\", \"coordination\", \"cost\", \"cost\", \"cost\", \"cost\", \"cost\", \"couldn\", \"couldn\", \"countries\", \"countries\", \"countries\", \"countries\", \"county\", \"county\", \"county\", \"county\", \"cousin\", \"creative\", \"creative\", \"creative\", \"cuba\", \"cuba\", \"cuban\", \"curriculum\", \"curriculum\", \"daily\", \"daily\", \"daily\", \"daily\", \"daily\", \"day\", \"day\", \"day\", \"day\", \"day\", \"definition\", \"democratic\", \"democratic\", \"democrats\", \"denied\", \"denied\", \"department\", \"department\", \"department\", \"department\", \"design\", \"design\", \"design\", \"designer\", \"designer\", \"development\", \"development\", \"development\", \"development\", \"didn\", \"didn\", \"didn\", \"don\", \"don\", \"don\", \"don\", \"don\", \"door\", \"door\", \"door\", \"drill\", \"drill\", \"dry\", \"east\", \"east\", \"east\", \"east\", \"education\", \"education\", \"education\", \"education\", \"education\", \"eisenhower\", \"eisenhower\", \"electronic\", \"engineer\", \"engineer\", \"engineer\", \"entrance\", \"equipment\", \"equipment\", \"equipment\", \"exercise\", \"exercise\", \"exercise\", \"eyes\", \"eyes\", \"eyes\", \"faculty\", \"faculty\", \"federal\", \"federal\", \"federal\", \"federal\", \"feed\", \"feed\", \"feed\", \"feed\", \"fig\", \"filing\", \"filing\", \"fingers\", \"fiscal\", \"fiscal\", \"flowers\", \"forests\", \"forests\", \"frames\", \"fulfill\", \"game\", \"game\", \"game\", \"game\", \"gen\", \"general\", \"general\", \"general\", \"general\", \"general\", \"good\", \"good\", \"good\", \"good\", \"good\", \"got\", \"got\", \"government\", \"government\", \"government\", \"government\", \"guests\", \"guests\", \"hadn\", \"hadn\", \"hair\", \"ham\", \"handsome\", \"hated\", \"hearing\", \"hearing\", \"hearing\", \"hell\", \"high\", \"high\", \"high\", \"high\", \"high\", \"home\", \"home\", \"home\", \"home\", \"home\", \"house\", \"house\", \"house\", \"house\", \"house\", \"inch\", \"inch\", \"inch\", \"inch\", \"income\", \"income\", \"income\", \"income\", \"india\", \"india\", \"india\", \"india\", \"industrial\", \"industrial\", \"industry\", \"industry\", \"industry\", \"industry\", \"insurance\", \"insurance\", \"insurance\", \"insurance\", \"interference\", \"interference\", \"interference\", \"interference\", \"interior\", \"interior\", \"interior\", \"interior\", \"inventories\", \"investment\", \"investment\", \"island\", \"island\", \"island\", \"island\", \"island\", \"john\", \"john\", \"john\", \"john\", \"john\", \"junior\", \"junior\", \"junior\", \"junior\", \"katanga\", \"kennedy\", \"kennedy\", \"kennedy\", \"kennedy\", \"khrushchev\", \"knew\", \"knew\", \"knew\", \"knew\", \"know\", \"know\", \"know\", \"know\", \"know\", \"labor\", \"labor\", \"labor\", \"labor\", \"laboratory\", \"laos\", \"laos\", \"leaders\", \"leaders\", \"leaders\", \"league\", \"league\", \"league\", \"left\", \"left\", \"left\", \"left\", \"let\", \"let\", \"let\", \"let\", \"let\", \"level\", \"level\", \"level\", \"level\", \"level\", \"life\", \"life\", \"life\", \"life\", \"life\", \"liked\", \"little\", \"little\", \"little\", \"little\", \"little\", \"ll\", \"ll\", \"ll\", \"ll\", \"local\", \"local\", \"local\", \"local\", \"local\", \"look\", \"look\", \"look\", \"look\", \"look\", \"looked\", \"looked\", \"looked\", \"looked\", \"machine\", \"machine\", \"machinery\", \"machinery\", \"machinery\", \"machines\", \"machines\", \"machines\", \"man\", \"man\", \"man\", \"man\", \"man\", \"manufacturers\", \"manufacturers\", \"manufacturing\", \"manufacturing\", \"marketing\", \"mathematics\", \"mayor\", \"mayor\", \"meat\", \"meat\", \"meat\", \"medical\", \"medical\", \"medical\", \"meeting\", \"meeting\", \"meeting\", \"meeting\", \"members\", \"members\", \"members\", \"members\", \"membership\", \"membership\", \"membership\", \"men\", \"men\", \"men\", \"men\", \"men\", \"military\", \"military\", \"military\", \"million\", \"million\", \"million\", \"million\", \"million\", \"missile\", \"missile\", \"missiles\", \"monday\", \"monday\", \"monday\", \"monday\", \"moscow\", \"mother\", \"mother\", \"motors\", \"motors\", \"mr\", \"mr\", \"mr\", \"mr\", \"mr\", \"mrs\", \"mrs\", \"music\", \"music\", \"musical\", \"musical\", \"national\", \"national\", \"national\", \"national\", \"national\", \"nations\", \"nations\", \"nations\", \"nations\", \"officer\", \"officer\", \"officer\", \"officer\", \"old\", \"old\", \"old\", \"old\", \"old\", \"opposition\", \"pale\", \"party\", \"party\", \"party\", \"pay\", \"pay\", \"pay\", \"pay\", \"pay\", \"payment\", \"payment\", \"payments\", \"payments\", \"people\", \"people\", \"people\", \"people\", \"people\", \"pieces\", \"pieces\", \"pieces\", \"pieces\", \"pink\", \"place\", \"place\", \"place\", \"place\", \"place\", \"planning\", \"planning\", \"planning\", \"planning\", \"player\", \"polaris\", \"police\", \"police\", \"police\", \"political\", \"political\", \"political\", \"political\", \"pool\", \"pool\", \"pool\", \"pool\", \"pope\", \"premier\", \"president\", \"president\", \"president\", \"president\", \"president\", \"prestige\", \"prestige\", \"problem\", \"problem\", \"problem\", \"problem\", \"proceedings\", \"procurement\", \"procurement\", \"production\", \"production\", \"production\", \"production\", \"production\", \"products\", \"products\", \"products\", \"products\", \"professors\", \"program\", \"program\", \"program\", \"program\", \"property\", \"property\", \"property\", \"property\", \"prosperity\", \"provide\", \"provide\", \"provide\", \"provide\", \"provide\", \"providence\", \"providence\", \"providence\", \"public\", \"public\", \"public\", \"public\", \"puerto\", \"puerto\", \"race\", \"race\", \"radiation\", \"radiation\", \"railroad\", \"range\", \"range\", \"range\", \"range\", \"range\", \"rayburn\", \"recognition\", \"recognition\", \"recommendation\", \"recommendation\", \"recorded\", \"recorded\", \"recreation\", \"recreation\", \"recreation\", \"rehabilitation\", \"republican\", \"republicans\", \"research\", \"research\", \"research\", \"research\", \"research\", \"return\", \"return\", \"return\", \"return\", \"rhode\", \"rhode\", \"rico\", \"rico\", \"right\", \"right\", \"right\", \"right\", \"right\", \"robinson\", \"room\", \"room\", \"room\", \"said\", \"said\", \"said\", \"said\", \"said\", \"sales\", \"sales\", \"sales\", \"sales\", \"sat\", \"sat\", \"sat\", \"savings\", \"savings\", \"school\", \"school\", \"school\", \"school\", \"school\", \"schools\", \"schools\", \"schools\", \"schools\", \"schools\", \"secretary\", \"secretary\", \"secretary\", \"secretary\", \"section\", \"section\", \"section\", \"section\", \"sectors\", \"service\", \"service\", \"service\", \"service\", \"service\", \"services\", \"services\", \"services\", \"services\", \"shall\", \"shall\", \"shall\", \"shall\", \"shall\", \"shares\", \"shares\", \"shares\", \"shelter\", \"shelter\", \"shipments\", \"small\", \"small\", \"small\", \"small\", \"small\", \"son\", \"son\", \"son\", \"son\", \"southern\", \"soviet\", \"soviet\", \"speaker\", \"speaker\", \"speaker\", \"st\", \"st\", \"stared\", \"state\", \"state\", \"state\", \"state\", \"state\", \"states\", \"states\", \"states\", \"states\", \"stations\", \"stations\", \"stations\", \"stockholders\", \"stockholders\", \"student\", \"student\", \"student\", \"student\", \"student\", \"students\", \"students\", \"students\", \"students\", \"students\", \"studio\", \"sun\", \"sun\", \"sun\", \"sure\", \"sure\", \"sure\", \"sure\", \"sweet\", \"system\", \"system\", \"system\", \"system\", \"system\", \"systems\", \"tax\", \"tax\", \"tax\", \"teachers\", \"teachers\", \"teachers\", \"technical\", \"technical\", \"tends\", \"thereof\", \"thought\", \"thought\", \"thought\", \"thought\", \"thought\", \"title\", \"title\", \"title\", \"title\", \"tractor\", \"tractor\", \"treasury\", \"treasury\", \"trees\", \"trees\", \"troops\", \"trust\", \"trust\", \"trust\", \"trust\", \"trustees\", \"unions\", \"unions\", \"unions\", \"united\", \"united\", \"united\", \"united\", \"university\", \"university\", \"university\", \"university\", \"upstairs\", \"use\", \"use\", \"use\", \"use\", \"use\", \"utility\", \"utility\", \"ve\", \"ve\", \"ve\", \"ve\", \"vehicles\", \"vehicles\", \"vehicles\", \"vocational\", \"walls\", \"war\", \"war\", \"war\", \"war\", \"war\", \"wasn\", \"wasn\", \"water\", \"water\", \"water\", \"water\", \"way\", \"way\", \"way\", \"way\", \"way\", \"week\", \"week\", \"week\", \"week\", \"week\", \"went\", \"went\", \"went\", \"west\", \"west\", \"west\", \"windows\", \"woman\", \"woman\", \"woman\", \"work\", \"work\", \"work\", \"work\", \"work\", \"world\", \"world\", \"world\", \"world\", \"world\", \"yankees\", \"yards\", \"yellow\", \"yesterday\", \"yesterday\", \"yesterday\", \"yield\", \"yield\", \"york\", \"york\", \"york\", \"york\", \"york\"]}, \"R\": 30, \"lambda.step\": 0.01, \"plot.opts\": {\"xlab\": \"PC1\", \"ylab\": \"PC2\"}, \"topic.order\": [1, 2, 3, 4, 5]};\n",
       "\n",
       "function LDAvis_load_lib(url, callback){\n",
       "  var s = document.createElement('script');\n",
       "  s.src = url;\n",
       "  s.async = true;\n",
       "  s.onreadystatechange = s.onload = callback;\n",
       "  s.onerror = function(){console.warn(\"failed to load library \" + url);};\n",
       "  document.getElementsByTagName(\"head\")[0].appendChild(s);\n",
       "}\n",
       "\n",
       "if(typeof(LDAvis) !== \"undefined\"){\n",
       "   // already loaded: just create the visualization\n",
       "   !function(LDAvis){\n",
       "       new LDAvis(\"#\" + \"ldavis_el343421405607959090566087942280\", ldavis_el343421405607959090566087942280_data);\n",
       "   }(LDAvis);\n",
       "}else if(typeof define === \"function\" && define.amd){\n",
       "   // require.js is available: use it to load d3/LDAvis\n",
       "   require.config({paths: {d3: \"https://d3js.org/d3.v5\"}});\n",
       "   require([\"d3\"], function(d3){\n",
       "      window.d3 = d3;\n",
       "      LDAvis_load_lib(\"https://cdn.jsdelivr.net/gh/bmabey/pyLDAvis@3.4.0/pyLDAvis/js/ldavis.v3.0.0.js\", function(){\n",
       "        new LDAvis(\"#\" + \"ldavis_el343421405607959090566087942280\", ldavis_el343421405607959090566087942280_data);\n",
       "      });\n",
       "    });\n",
       "}else{\n",
       "    // require.js not available: dynamically load d3 & LDAvis\n",
       "    LDAvis_load_lib(\"https://d3js.org/d3.v5.js\", function(){\n",
       "         LDAvis_load_lib(\"https://cdn.jsdelivr.net/gh/bmabey/pyLDAvis@3.4.0/pyLDAvis/js/ldavis.v3.0.0.js\", function(){\n",
       "                 new LDAvis(\"#\" + \"ldavis_el343421405607959090566087942280\", ldavis_el343421405607959090566087942280_data);\n",
       "            })\n",
       "         });\n",
       "}\n",
       "</script>"
      ],
      "text/plain": [
       "<IPython.core.display.HTML object>"
      ]
     },
     "execution_count": 54,
     "metadata": {},
     "output_type": "execute_result"
    }
   ],
   "source": [
    "pyLDAvis.display(lda_display)"
   ]
  },
  {
   "attachments": {},
   "cell_type": "markdown",
   "id": "a3d14c87",
   "metadata": {},
   "source": [
    "Q: What conclusions do you draw from the visualization above? Please address the principal component scatterplot and the salient terms graph.\n",
    "\n",
    "A: Based on the principal component scatterplot, Topic 3 appears to be the most prevalent in the corpus, followed by Topics 1 and 2. Topic 5 has slightly lower prevalence, while Topic 4 has the smallest prevalence, as indicated by the relative size of the circles. The distance between the circles reflects how similar or distinct the topics are. Topic 1 is the most distinct, as it is positioned farthest from the other topics, whereas Topics 2 and 4 are located close together, suggesting they are more similar in content. The salient terms graph on the right shows both the overall frequency of terms in the corpus and, when selected, their estimated frequency within each topic. Overall, the terms \"states,\" \"state,\" and \"said\" appear most frequently across the entire corpus. However, each topic has its own set of salient words that appear more frequently within that specific context.\n",
    "\n"
   ]
  }
 ],
 "metadata": {
  "kernelspec": {
   "display_name": "502",
   "language": "python",
   "name": "python3"
  },
  "language_info": {
   "codemirror_mode": {
    "name": "ipython",
    "version": 3
   },
   "file_extension": ".py",
   "mimetype": "text/x-python",
   "name": "python",
   "nbconvert_exporter": "python",
   "pygments_lexer": "ipython3",
   "version": "3.10.12"
  }
 },
 "nbformat": 4,
 "nbformat_minor": 5
}
